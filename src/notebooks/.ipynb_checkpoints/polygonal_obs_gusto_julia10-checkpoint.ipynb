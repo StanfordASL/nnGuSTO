{
 "cells": [
  {
   "cell_type": "code",
   "execution_count": 1,
   "metadata": {
    "scrolled": false
   },
   "outputs": [],
   "source": [
    "include(\"../../astrobee_se3_script.jl\")\n",
    "using Plots\n"
   ]
  },
  {
   "cell_type": "code",
   "execution_count": 2,
   "metadata": {},
   "outputs": [
    {
     "data": {
      "text/plain": [
       "AstrobeeSE3(13, 6, Any[], Any[], Any[], 1.0e-5, 7.2, [0.1083 0.0 0.0; 0.0 0.1083 0.0; 0.0 0.0 0.1083], [9.23361 0.0 0.0; 0.0 9.23361 0.0; 0.0 0.0 9.23361], [100.0, 100.0, 100.0, 0.4, 0.4, 0.4, 100.0, 100.0, 100.0, 100.0, 0.785, 0.785, 0.785], [-100.0, -100.0, -100.0, -0.4, -0.4, -0.4, -100.0, -100.0, -100.0, -100.0, -0.785, -0.785, -0.785], [0.72, 0.72, 0.72, 0.0944617, 0.0944617, 0.0944617], [-0.72, -0.72, -0.72, -0.0944617, -0.0944617, -0.0944617], [-0.25, 0.4, 0.0, 0.0, 0.0, 0.0, 0.0, 0.0, 0.0, 1.0, 0.0, 0.0, 0.0], [0.7, -0.5, 0.0, 0.0, 0.0, 0.0, 0.0, 0.0, 0.0, 1.0, 0.0, 0.0, 0.0], 110.0, Any[Any[[0.4, -0.1, 0.0], 0.1]], Any[PolygonalObstacle([0.0, 0.2, 0.2], 0.05, 0.05, 0.05, Array{Int64,1}[[0, -1, 0], [1, 0, 0], [0, 1, 0], [-1, 0, 0], [0, 0, 1], [0, 0, -1]], Array{Float64,1}[[0.05, 0.15, 0.25], [0.05, 0.25, 0.25], [-0.05, 0.25, 0.25], [-0.05, 0.15, 0.25], [0.05, 0.15, 0.15], [0.05, 0.25, 0.15], [-0.05, 0.25, 0.15], [-0.05, 0.15, 0.15]])], 1000.0, 1.0, 1.0e9, 0.001, 0.01, 50.0, 2.0, 0.5, 5.0, 0.5)"
      ]
     },
     "execution_count": 2,
     "metadata": {},
     "output_type": "execute_result"
    }
   ],
   "source": [
    "model = AstrobeeSE3()"
   ]
  },
  {
   "cell_type": "code",
   "execution_count": 3,
   "metadata": {},
   "outputs": [
    {
     "data": {
      "text/plain": [
       "solve_gusto (generic function with 2 methods)"
      ]
     },
     "execution_count": 3,
     "metadata": {},
     "output_type": "execute_result"
    }
   ],
   "source": [
    "function solve_gusto(model, N, MAX_ITERATIONS_NB, verbose = true)\n",
    "    \n",
    "    Xp,Up = initialize_trajectory(model, N)\n",
    "    X, U  = copy(Xp)  , copy(Up) \n",
    "\n",
    "    SCPproblem = GuSTOProblem(model, N, Xp, Up)\n",
    "\n",
    "    x_dim, u_dim = model.x_dim, model.u_dim\n",
    "\n",
    "    Delta0, omega0, omegamax, \n",
    "        epsilon, rho0, rho1, \n",
    "        beta_succ, beta_fail, gamma_fail, \n",
    "        convergence_threshold = get_initial_gusto_parameters(model)\n",
    "\n",
    "    Delta = Delta0\n",
    "    omega = omega0\n",
    "\n",
    "    X_all, U_all = [], []\n",
    "    push!(X_all, copy(X))\n",
    "    push!(U_all, copy(U))\n",
    "\n",
    "    B_success = false\n",
    "    it = 0\n",
    "\n",
    "    while it<MAX_ITERATIONS_NB && \n",
    "            !(it!=0 && it!=1 && it!=2 && it!=3 && B_success && \n",
    "                convergence_metric(model,X,U,Xp,Up)<convergence_threshold) &&\n",
    "            omega<omegamax\n",
    "        if verbose\n",
    "            println(\"-----------\")\n",
    "            println(\"Iteration $it\")\n",
    "            println(\"metric=$(convergence_metric(model,X,U,Xp,Up))\")\n",
    "            println(\"-----------\")\n",
    "        end\n",
    "\n",
    "        Xp = copy(X)\n",
    "        Up = copy(U)\n",
    "\n",
    "        model.f, model.A, model.B = compute_dynamics(model, Xp, Up)\n",
    "\n",
    "        reset_problem(SCPproblem, model)\n",
    "        set_parameters(SCPproblem, model, Xp, Up, omega, Delta)\n",
    "        define_cost(SCPproblem, model)\n",
    "        define_constraints(SCPproblem, model)\n",
    "\n",
    "        JuMP.optimize!(SCPproblem.solver_model)    \n",
    "        X_sol = JuMP.value.(SCPproblem.X)\n",
    "        U_sol = JuMP.value.(SCPproblem.U)\n",
    "\n",
    "        # -----------\n",
    "        # GuSTO Logic\n",
    "        if it > 3\n",
    "            if is_in_trust_region(model, X_sol, U_sol, Xp, Up, Delta)\n",
    "                rho = accuracy_ratio(SCPproblem, model, X_sol, U_sol, Xp, Up)\n",
    "\n",
    "                if rho > rho1\n",
    "                    if verbose\n",
    "                        println(\"Reject solution.\")\n",
    "                    end\n",
    "                    Delta = beta_fail * Delta\n",
    "                    omega     = omega\n",
    "                    B_success = false\n",
    "\n",
    "                else\n",
    "                    if verbose\n",
    "                        println(\"Accept solution.\")\n",
    "                    end\n",
    "                    X = copy(X_sol)\n",
    "                    U = copy(U_sol)\n",
    "                    B_success = true\n",
    "                    if rho < rho0\n",
    "                        Delta = min(beta_succ*Delta, Delta0)\n",
    "                    else\n",
    "                        Delta = Delta\n",
    "                    end\n",
    "                    if satisfies_state_inequality_constraints(SCPproblem, model, X_sol, U_sol, Xp, Up, Delta)\n",
    "                        omega = omega0\n",
    "                    else\n",
    "                        if verbose\n",
    "                            println(\"Solution does not satisfy state constraints, increasing omega.\")\n",
    "                        end\n",
    "                        omega = gamma_fail * omega\n",
    "                        B_success = false\n",
    "                    end\n",
    "                end\n",
    "            else\n",
    "                if verbose\n",
    "                    println(\"Reject solution (Outside trust region)\")\n",
    "                end\n",
    "                Delta = Delta\n",
    "                omega     = gamma_fail * omega\n",
    "                B_success = false\n",
    "            end\n",
    "    #         if convergence_metric(model,X,U,Xp,Up) <0.6\n",
    "    #             println(\"Convergence metric very small. Decreasing Delta.\")\n",
    "    #             Delta = Delta0./(2^it)\n",
    "    #         end\n",
    "\n",
    "        else # always accept first solution\n",
    "            X = copy(X_sol)\n",
    "            U = copy(U_sol)\n",
    "        end\n",
    "\n",
    "\n",
    "        # -----------\n",
    "\n",
    "        push!(X_all, copy(X))\n",
    "        push!(U_all, copy(U))\n",
    "\n",
    "\n",
    "        it += 1\n",
    "\n",
    "        diff_with_prev = norm(copy(X) - copy(Xp), Inf)\n",
    "        if verbose\n",
    "            println(\"x(k) - x(k-1) = $diff_with_prev\")\n",
    "            println(\"Parameters:\")\n",
    "            println(\"omega=$omega\")\n",
    "            println(\"delta=$Delta\")\n",
    "        end\n",
    "    end\n",
    "    curr_conv_metric = convergence_metric(model,X,U,Xp,Up)\n",
    "    if (B_success && \n",
    "                curr_conv_metric<convergence_threshold)\n",
    "        if verbose\n",
    "            println(\"Converged\")\n",
    "        end\n",
    "        isConverged = true\n",
    "    else\n",
    "        if verbose\n",
    "            println(\"Not converged. Metric =$curr_conv_metric\")\n",
    "        end\n",
    "        isConverged = false\n",
    "    end\n",
    "    return isConverged, X_all, U_all\n",
    "end"
   ]
  },
  {
   "cell_type": "code",
   "execution_count": 4,
   "metadata": {},
   "outputs": [],
   "source": [
    "# function plot_env_solution(model, X_all)\n",
    "#     N = length(X_all)\n",
    "\n",
    "#     idx = [1,2]\n",
    "#     local fig\n",
    "#     fig = plot(framestyle = :box)\n",
    "#     for iter = 1:length(X_all)\n",
    "#         X = X_all[iter]\n",
    "#         if iter ==1 \n",
    "#             color = :darkblue\n",
    "#             plot!(fig, X[1,:], X[2,:], line=(5, :dash); c=color, lab = \"Initial guess\")\n",
    "#         elseif iter == length(X_all)\n",
    "#             color = :green\n",
    "#             plot!(fig, X[1,:], X[2,:], line=(5, :dash), c=color, lab = \"Final solution\")\n",
    "#         else\n",
    "#             color = :blue\n",
    "#             plot!(fig, X[1,:], X[2,:]; c=color, lab = \"\")\n",
    "#         end\n",
    "        \n",
    "#     end\n",
    "\n",
    "#     for obs_i = 1:length(model.obstacles)\n",
    "#         p_obs, obs_radius = model.obstacles[obs_i][1], model.obstacles[obs_i][2]\n",
    "#         plot_circle(p_obs[idx], obs_radius,lab =\"\"; color=:red, fig=fig)\n",
    "#     end\n",
    "#     xlims!((model.x_min[1],model.x_max[1]))\n",
    "#     ylims!((model.x_min[2],model.x_max[2]))\n",
    "#     plot!(leg = true)\n",
    "#     return fig\n",
    "# end"
   ]
  },
  {
   "cell_type": "code",
   "execution_count": 5,
   "metadata": {},
   "outputs": [
    {
     "data": {
      "text/plain": [
       "plot_env_and_trajs (generic function with 2 methods)"
      ]
     },
     "execution_count": 5,
     "metadata": {},
     "output_type": "execute_result"
    }
   ],
   "source": [
    "function plot_env_and_trajs(model, X_all, labls = [\"\"])\n",
    "    N = length(X_all)\n",
    "\n",
    "    idx = [1,2]\n",
    "    local fig\n",
    "    fig = plot(framestyle = :box)\n",
    "    for iter = 1:length(X_all)\n",
    "        X = X_all[iter]\n",
    "        plot!(fig, X[1,:], X[2,:];line=(5, :dash), lab = labls[iter])\n",
    "    end\n",
    "\n",
    "    for obs_i = 1:length(model.obstacles)\n",
    "        p_obs, obs_radius = model.obstacles[obs_i][1], model.obstacles[obs_i][2]\n",
    "        plot_circle(p_obs[idx], obs_radius,lab =\"\"; color=:red, fig=fig)\n",
    "    end\n",
    "    \n",
    "    for obs_i = 1:length(model.poly_obstacles)\n",
    "        plot_polyObs_corners_2d(fig, model.poly_obstacles[obs_i]; dims=idx)\n",
    "    end\n",
    "    \n",
    "    xlims!((model.x_min[1],model.x_max[1]))\n",
    "    ylims!((model.x_min[2],model.x_max[2]))\n",
    "    plot!(leg = true)\n",
    "    return fig\n",
    "end"
   ]
  },
  {
   "cell_type": "code",
   "execution_count": 6,
   "metadata": {},
   "outputs": [
    {
     "data": {
      "text/plain": [
       "plot_solution (generic function with 1 method)"
      ]
     },
     "execution_count": 6,
     "metadata": {},
     "output_type": "execute_result"
    }
   ],
   "source": [
    "function plot_solution(model, X_all)\n",
    "    N = length(X_all)\n",
    "\n",
    "    idx = [2,3]\n",
    "    local fig\n",
    "    fig = plot()\n",
    "    for iter = 1:length(X_all)\n",
    "        X = X_all[iter]\n",
    "        plot!(fig, X[1,:], X[2,:]; c=:blue)\n",
    "    end\n",
    "\n",
    "    for obs_i = 1:length(model.obstacles)\n",
    "        p_obs, obs_radius = model.obstacles[obs_i][1], model.obstacles[obs_i][2]\n",
    "        plot_circle(p_obs[idx], obs_radius; color=:red, fig=fig)\n",
    "    end\n",
    "    \n",
    "    for obs_i = 1:length(model.poly_obstacles)\n",
    "        plot_polyObs_corners_2d(fig, model.poly_obstacles[obs_i]; dims=idx)\n",
    "    end\n",
    "    \n",
    "    \n",
    "\n",
    "    return fig\n",
    "end"
   ]
  },
  {
   "cell_type": "markdown",
   "metadata": {},
   "source": [
    "# Simple Case"
   ]
  },
  {
   "cell_type": "code",
   "execution_count": 7,
   "metadata": {
    "scrolled": false
   },
   "outputs": [
    {
     "name": "stdout",
     "output_type": "stream",
     "text": [
      "model.obstacles = Any[]\n",
      "model.poly_obstacles = Any[]\n",
      "-----------\n",
      "Iteration 0\n",
      "metric=0.0\n",
      "-----------\n",
      "\n",
      "******************************************************************************\n",
      "This program contains Ipopt, a library for large-scale nonlinear optimization.\n",
      " Ipopt is released as open source code under the Eclipse Public License (EPL).\n",
      "         For more information visit http://projects.coin-or.org/Ipopt\n",
      "******************************************************************************\n",
      "\n",
      "x(k) - x(k-1) = 0.6231780404909619\n",
      "Parameters:\n",
      "omega=1.0\n",
      "delta=1000.0\n",
      "-----------\n",
      "Iteration 1\n",
      "metric=12.640191618433619\n",
      "-----------\n",
      "x(k) - x(k-1) = 0.03277481871059196\n",
      "Parameters:\n",
      "omega=1.0\n",
      "delta=1000.0\n",
      "-----------\n",
      "Iteration 2\n",
      "metric=0.49203443136912345\n",
      "-----------\n",
      "x(k) - x(k-1) = 0.015901232267280574\n",
      "Parameters:\n",
      "omega=1.0\n",
      "delta=1000.0\n",
      "-----------\n",
      "Iteration 3\n",
      "metric=0.263521938640534\n",
      "-----------\n",
      "x(k) - x(k-1) = 0.007930484465231147\n",
      "Parameters:\n",
      "omega=1.0\n",
      "delta=1000.0\n",
      "-----------\n",
      "Iteration 4\n",
      "metric=0.1406190650645937\n",
      "-----------\n",
      "Accept solution.\n",
      "x(k) - x(k-1) = 3.9648417622717425e-5\n",
      "Parameters:\n",
      "omega=1.0\n",
      "delta=1000.0\n",
      "Converged\n"
     ]
    },
    {
     "data": {
      "text/plain": [
       "(true, Any[[1.0 1.12245 … 6.87755 7.0; 7.0 6.87755 … 1.12245 1.0; … ; 0.0 0.0 … 0.0 0.0; 0.0 0.0 … 0.0 0.0], [1.0 1.00536 … 6.98266 6.99902; 7.0 6.99464 … 1.01734 1.00098; … ; 0.0 6.51695e-10 … 9.32584e-10 3.89596e-11; 0.0 -8.53013e-10 … 2.68016e-9 1.18151e-10], [1.0 1.00536 … 6.98265 6.99902; 7.0 6.99464 … 1.01735 1.00098; … ; 0.0 8.14419e-10 … 9.58319e-10 4.44008e-11; 0.0 -1.53613e-9 … 7.22104e-10 2.96789e-11], [1.0 1.00536 … 6.98266 6.99902; 7.0 6.99464 … 1.01734 1.00098; … ; 0.0 9.82415e-10 … 2.79324e-9 1.23133e-10; 0.0 -2.63483e-9 … 1.00086e-9 4.41187e-11], [1.0 1.00536 … 6.98266 6.99902; 7.0 6.99464 … 1.01734 1.00098; … ; 0.0 -4.45282e-10 … -2.23372e-10 -9.84685e-12; 0.0 -1.23945e-9 … -1.01208e-9 -4.67665e-11], [1.0 1.00536 … 6.98266 6.99903; 7.0 6.99464 … 1.01734 1.00097; … ; 0.0 7.85919e-10 … -1.57513e-10 -9.09907e-12; 0.0 5.86037e-10 … 1.75006e-9 7.4992e-11]], Any[[0.0 0.0 … 0.0 0.0; 0.0 0.0 … 0.0 0.0; … ; 0.0 0.0 … 0.0 0.0; 0.0 0.0 … 0.0 0.0], [0.0103549 0.0202881 … -0.0283654 -0.0201747; -0.0103544 -0.0202872 … 0.0283664 0.0201756; … ; 2.19225e-11 4.09566e-11 … -5.27622e-11 -4.31109e-11; -2.80034e-11 -5.42999e-11 … -1.46813e-10 -1.23598e-10], [0.0103548 0.0202881 … -0.0283654 -0.0201747; -0.0103544 -0.0202872 … 0.0283664 0.0201756; … ; 2.80579e-11 5.05216e-11 … -6.12702e-11 -4.40899e-11; -5.15881e-11 -9.66262e-11 … -4.31597e-11 -3.34045e-11], [0.0103549 0.0202881 … -0.0283654 -0.0201747; -0.0103544 -0.0202872 … 0.0283664 0.0201756; … ; 3.2419e-11 6.23697e-11 … -1.61081e-10 -1.28813e-10; -8.7715e-11 -1.66508e-10 … -6.24647e-11 -4.6156e-11], [0.0103549 0.0202881 … -0.0283654 -0.0201747; -0.0103544 -0.0202872 … 0.0283664 0.0201756; … ; -1.51416e-11 -2.78216e-11 … -6.34418e-12 1.0301e-11; -4.21187e-11 -7.74701e-11 … 4.65866e-11 4.65694e-11], [0.0103549 0.0202882 … -0.0283654 -0.0201747; -0.0103544 -0.0202873 … 0.0283665 0.0201756; … ; 2.61607e-11 4.96691e-11 … 1.33062e-11 7.15991e-12; 1.91592e-11 3.73849e-11 … -1.04658e-10 -8.081e-11]])"
      ]
     },
     "execution_count": 7,
     "metadata": {},
     "output_type": "execute_result"
    }
   ],
   "source": [
    "include(\"astrobee_se3_script.jl\")\n",
    "\n",
    "N = 50\n",
    "MAX_ITERATIONS_NB = 100\n",
    "\n",
    "model = AstrobeeSE3()\n",
    "\n",
    "# Set up environment\n",
    "model.x_max[1:3] = [10.0; 10.0; 1.0]\n",
    "model.x_min[1:3] = [0.0; 0.0; 0.0]\n",
    "\n",
    "obstacles = []\n",
    "# obs = [[0.0,0.0,0.0], 6.0]\n",
    "# push!(obstacles, obs)\n",
    "# obs = [[5.0,5.0,0.0], 1.3]\n",
    "# push!(obstacles, obs)\n",
    "# obs = [[3.0,5.0,0.0], 1.3]\n",
    "# push!(obstacles, obs)\n",
    "# obs = [[5.0,3.0,0.0], 1.3]\n",
    "# push!(obstacles, obs)\n",
    "model.obstacles = obstacles\n",
    "\n",
    "poly_obstacles = []\n",
    "# obs = PolygonalObstacle([2.5,2.5,0], [5.0, 5.0, 2.0])\n",
    "# push!(poly_obstacles, obs)\n",
    "model.poly_obstacles = poly_obstacles\n",
    "\n",
    "model.tf_guess = 110.\n",
    "model.convergence_threshold = 0.5\n",
    "\n",
    "model.x_init = [1.0;7.0;0.5;  0;0;0;  0.;0.;0.; 1.;  0;0;0]\n",
    "model.x_final = [7.0 ;1.0;0.5;  0;0;0;  0.;0.;1.; 0.;  0;0;0]\n",
    "\n",
    "\n",
    "@show(model.obstacles)\n",
    "@show(model.poly_obstacles)\n",
    "\n",
    "# plot_env_and_trajs(model, [], [])\n",
    "isConverged, X_all, U_all = solve_gusto(model, N, MAX_ITERATIONS_NB, true)\n",
    "# @show size(X_all)\n",
    "# @show size(U_all)"
   ]
  },
  {
   "cell_type": "code",
   "execution_count": 8,
   "metadata": {},
   "outputs": [
    {
     "data": {
      "text/plain": [
       "13×50 Array{Float64,2}:\n",
       " 1.0   1.00536       1.02304       1.05433      …   6.98266       6.99903    \n",
       " 7.0   6.99464       6.97696       6.94568          1.01734       1.00097    \n",
       " 0.5   0.5           0.5           0.5              0.5           0.5        \n",
       " 0.0   0.00477711    0.0109713     0.0169027        0.00728993    0.00099962 \n",
       " 0.0  -0.0047769    -0.0109709    -0.016902        -0.00729021   -0.00099962 \n",
       " 0.0  -4.29267e-13  -9.58966e-13  -1.42591e-12  …   1.75375e-12   1.74517e-12\n",
       " 0.0  -3.28898e-10  -1.40406e-9   -3.27499e-9      -1.74514e-10   2.29512e-12\n",
       " 0.0   4.41076e-10   1.87352e-9    4.35431e-9       1.96847e-9    4.05299e-12\n",
       " 0.0   0.00141217    0.00606708    0.0143043        1.00002       1.00004    \n",
       " 1.0   0.999998      0.999976      0.999885         0.0039028     5.74508e-6 \n",
       " 0.0  -0.00251624   -0.0057781    -0.00890032   …  -0.00347184   -0.00015279 \n",
       " 0.0   7.85919e-10   1.76644e-9    2.6537e-9       -1.57513e-10  -9.09907e-12\n",
       " 0.0   5.86037e-10   1.32984e-9    2.00497e-9       1.75006e-9    7.4992e-11 "
      ]
     },
     "execution_count": 8,
     "metadata": {},
     "output_type": "execute_result"
    }
   ],
   "source": [
    "X_soln = X_all[end]"
   ]
  },
  {
   "cell_type": "code",
   "execution_count": 9,
   "metadata": {
    "scrolled": true
   },
   "outputs": [
    {
     "name": "stderr",
     "output_type": "stream",
     "text": [
      "┌ Info: Recompiling stale cache file /home/somrita/.julia/compiled/v1.0/MeshCat/CZdjb.ji for MeshCat [283c5d60-a78f-5afe-a0af-af636b173e11]\n",
      "└ @ Base loading.jl:1190\n",
      "WARNING: using HTTP.stack in module Mux conflicts with an existing identifier.\n"
     ]
    },
    {
     "data": {
      "text/html": [
       "    <script class='js-collapse-script'>\n",
       "        var curMatch =\n",
       "            window.location.href\n",
       "            .match(/(.*?)\\/notebooks\\/.*\\.ipynb/);\n",
       "\n",
       "        curMatch = curMatch ||\n",
       "            window.location.href\n",
       "            .match(/(.*?)\\/apps\\/.*\\.ipynb/);\n",
       "\n",
       "        if ( curMatch ) {\n",
       "            $('head').append('<base href=\"' + curMatch[1] + '/\">');\n",
       "        }\n",
       "    </script>\n"
      ],
      "text/plain": [
       "HTML{String}(\"    <script class='js-collapse-script'>\\n        var curMatch =\\n            window.location.href\\n            .match(/(.*?)\\\\/notebooks\\\\/.*\\\\.ipynb/);\\n\\n        curMatch = curMatch ||\\n            window.location.href\\n            .match(/(.*?)\\\\/apps\\\\/.*\\\\.ipynb/);\\n\\n        if ( curMatch ) {\\n            \\$('head').append('<base href=\\\"' + curMatch[1] + '/\\\">');\\n        }\\n    </script>\\n\")"
      ]
     },
     "metadata": {},
     "output_type": "display_data"
    },
    {
     "data": {
      "text/html": [
       "<script class='js-collapse-script' src='/assetserver/75259c676c4c94b02ca26a89265c53e5a244a54a-assets/webio/dist/bundle.js'></script>"
      ],
      "text/plain": [
       "HTML{String}(\"<script class='js-collapse-script' src='/assetserver/75259c676c4c94b02ca26a89265c53e5a244a54a-assets/webio/dist/bundle.js'></script>\")"
      ]
     },
     "metadata": {},
     "output_type": "display_data"
    },
    {
     "data": {
      "text/html": [
       "<script class='js-collapse-script' src='/assetserver/75259c676c4c94b02ca26a89265c53e5a244a54a-assets/providers/ijulia_setup.js'></script>"
      ],
      "text/plain": [
       "HTML{String}(\"<script class='js-collapse-script' src='/assetserver/75259c676c4c94b02ca26a89265c53e5a244a54a-assets/providers/ijulia_setup.js'></script>\")"
      ]
     },
     "metadata": {},
     "output_type": "display_data"
    },
    {
     "data": {
      "text/html": [
       "  <script class='js-collapse-script'>\n",
       "    $('.js-collapse-script').parent('.output_subarea').css('padding', '0');\n",
       "  </script>\n"
      ],
      "text/plain": [
       "HTML{String}(\"  <script class='js-collapse-script'>\\n    \\$('.js-collapse-script').parent('.output_subarea').css('padding', '0');\\n  </script>\\n\")"
      ]
     },
     "metadata": {},
     "output_type": "display_data"
    },
    {
     "name": "stderr",
     "output_type": "stream",
     "text": [
      "┌ Info: Recompiling stale cache file /home/somrita/.julia/compiled/v1.0/MeshCatMechanisms/dGmNl.ji for MeshCatMechanisms [6ad125db-dd91-5488-b820-c1df6aab299d]\n",
      "└ @ Base loading.jl:1190\n",
      "┌ Info: Recompiling stale cache file /home/somrita/.julia/compiled/v1.0/Interact/XmYW4.ji for Interact [c601a237-2ae4-5e1e-952c-7a85b0c7eef1]\n",
      "└ @ Base loading.jl:1190\n",
      "┌ Info: Recompiling stale cache file /home/somrita/.julia/compiled/v1.0/AstrobeeRobot/O6zG7.ji for AstrobeeRobot [2e1cbc1c-87bf-59b1-b910-07a65d02f0c0]\n",
      "└ @ Base loading.jl:1190\n"
     ]
    },
    {
     "name": "stdout",
     "output_type": "stream",
     "text": [
      "instantiated a floating joint\n"
     ]
    },
    {
     "name": "stderr",
     "output_type": "stream",
     "text": [
      "┌ Info: Serving MeshCat visualizer at http://127.0.0.1:8700\n",
      "└ @ MeshCat /home/somrita/.julia/packages/MeshCat/WlA0B/src/servers.jl:24\n"
     ]
    },
    {
     "data": {
      "text/plain": [
       "Process(`\u001b[4mxdg-open\u001b[24m \u001b[4mhttp://127.0.0.1:8700\u001b[24m`, ProcessExited(0))"
      ]
     },
     "execution_count": 9,
     "metadata": {},
     "output_type": "execute_result"
    },
    {
     "name": "stdout",
     "output_type": "stream",
     "text": [
      "Opening in existing browser session.\n"
     ]
    }
   ],
   "source": [
    "# using BulletCollision\n",
    "\n",
    "using Plots\n",
    "# using RigidBodySim, RigidBodyDynamics\n",
    "using MeshCat, MeshCatMechanisms\n",
    "using CoordinateTransformations\n",
    "using Interact, Reactive\n",
    "# using MAT, FileIO, MeshIO\n",
    "using MechanismGeometries\n",
    "# using ForwardDiff\n",
    "import GeometryTypes: HyperRectangle, HyperSphere, HomogenousMesh\n",
    "# import ColorTypes: RGB, RGBA\n",
    "\n",
    "# using StaticArrays, DataStructures\n",
    "# using JuMP, Convex\n",
    "# using Ipopt, Mosek, SCS\n",
    "# using MosekTools\n",
    "# using Gurobi\n",
    "# using MathProgBase, MathOptInterface\n",
    "# using NLsolve, DifferentialEquations\n",
    "\n",
    "# using MAT\n",
    "using GeometryTypes\n",
    "using FillArrays\n",
    "using LinearAlgebra\n",
    "\n",
    "using AstrobeeRobot\n",
    "\n",
    "N = 50\n",
    "# Animate Astrobee trajectory\n",
    "vis = Visualizer()\n",
    "delete!(vis)\n",
    "\n",
    "obstacles = []\n",
    "\n",
    "push!(obstacles,\n",
    "  HyperSphere(Point3f0([0.4,-0.10,0.]), Float32(0.1)))\n",
    "\n",
    "\n",
    "# obstacles = []\n",
    "# obs = [[0.4,-0.10,0.], 0.1]\n",
    "# push!(obstacles, obs)\n",
    "\n",
    "vis[:obstacle]\n",
    "for (idx,ws) in enumerate(obstacles)\n",
    "    setobject!(vis[:workspace][Symbol(string(\"ws\",idx))],\n",
    "        Object(ws,MeshBasicMaterial(color=RGBA(0.95,0.26,0.26,0.3))))\n",
    "end\n",
    "\n",
    "\n",
    "# vis[:goal]\n",
    "# for (idx,obs) in enumerate(env.keepout_zones)\n",
    "#     setobject!(vis[:goal][:goal], \n",
    "#         Object(HyperSphere(Point3f0(x_goal[1:3]), 0.1f0),\n",
    "#             MeshBasicMaterial(color=RGBA(0,1.0,0.,0.3))))\n",
    "# end\n",
    "\n",
    "# vis[:workspace]\n",
    "# for (idx,ws) in enumerate(env.keepin_zones)\n",
    "#     if idx in (5,8)\n",
    "#         setobject!(vis[:workspace][Symbol(string(\"ws\",idx))],\n",
    "#             Object(ws, MeshBasicMaterial(color=RGBA(0.95,0.93,0.26,0.3), depthWrite=false)))\n",
    "#     else\n",
    "#         setobject!(vis[:workspace][Symbol(string(\"ws\",idx))],\n",
    "#             Object(ws, MeshBasicMaterial(color=RGBA(0.95,0.93,0.26,0.3))))\n",
    "#     end\n",
    "# end\n",
    "\n",
    "# vis[:obstacle]\n",
    "# for (idx,ws) in enumerate(env.obstacle_set)\n",
    "#     setobject!(vis[:workspace][Symbol(string(\"ws\",idx+length(env.keepin_zones)))],\n",
    "#         Object(ws,MeshBasicMaterial(color=RGBA(0.95,0.26,0.26,0.3))))\n",
    "# end\n",
    "\n",
    "ab = Astrobee()\n",
    "mvis = MechanismVisualizer(\n",
    "    ab.mechanism,\n",
    "    URDFVisuals(AstrobeeRobot.urdfpath(), package_path=[dirname(dirname(AstrobeeRobot.urdfpath()))]),\n",
    "    vis);\n",
    "\n",
    "speed_factor = 3\n",
    "\n",
    "Qs = Vector{Vector{Float64}}()\n",
    "for k in 1:speed_factor:N\n",
    "#     q = [quat_inv(TOS_SCP.SCPS.traj.X[7:10,k]); TOS_SCP.SCPS.traj.X[1:3,k]]\n",
    "    q = [quat_inv(X_soln[7:10,k]); X_soln[1:3,k]]\n",
    "    push!(Qs,q)\n",
    "end\n",
    "\n",
    "trans = Translation(14., -1., 7.)\n",
    "rot = LinearMap(RotZ(-0.6)) ∘ LinearMap(RotY(-0.2))\n",
    "settransform!(vis[\"/Cameras/default\"], trans ∘ rot)\n",
    "setprop!(vis[\"/Cameras/default/rotated/<object>\"], \"zoom\", 1.9)\n",
    "setprop!(vis[\"/Cameras/default/rotated/<object>\"], \"near\", 0.05)\n",
    "\n",
    "sleep(3)\n",
    "setanimation!(mvis,1:length(Qs),Qs)\n",
    "\n",
    "plot_in_cell = false\n",
    "plot_in_cell ? IJuliaCell(vis) : open(vis)"
   ]
  },
  {
   "cell_type": "code",
   "execution_count": null,
   "metadata": {},
   "outputs": [],
   "source": []
  },
  {
   "cell_type": "code",
   "execution_count": null,
   "metadata": {},
   "outputs": [],
   "source": []
  },
  {
   "cell_type": "code",
   "execution_count": null,
   "metadata": {},
   "outputs": [],
   "source": []
  },
  {
   "cell_type": "code",
   "execution_count": null,
   "metadata": {},
   "outputs": [],
   "source": []
  }
 ],
 "metadata": {
  "kernelspec": {
   "display_name": "Julia 1.0.5",
   "language": "julia",
   "name": "julia-1.0"
  },
  "language_info": {
   "file_extension": ".jl",
   "mimetype": "application/julia",
   "name": "julia",
   "version": "1.0.5"
  }
 },
 "nbformat": 4,
 "nbformat_minor": 2
}

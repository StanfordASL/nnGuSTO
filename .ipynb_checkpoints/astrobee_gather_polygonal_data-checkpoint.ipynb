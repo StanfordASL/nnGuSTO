{
 "cells": [
  {
   "cell_type": "code",
   "execution_count": 1,
   "metadata": {},
   "outputs": [],
   "source": [
    "# Fix convergence of GuSTO\n",
    "# Create new environment? Yeah I guess we can try\n",
    "# Plot new environment \n",
    "# Run GuSTO with different points, does it converge?\n",
    "# Plot solution on top of new environment. Does it look good?\n",
    "# Set up lots of initial and final points, and store resulting data"
   ]
  },
  {
   "cell_type": "code",
   "execution_count": 11,
   "metadata": {
    "scrolled": true
   },
   "outputs": [],
   "source": [
    "include(\"astrobee_se3_script.jl\")\n",
    "using Plots\n",
    "using JLD2, FileIO"
   ]
  },
  {
   "cell_type": "code",
   "execution_count": 12,
   "metadata": {},
   "outputs": [
    {
     "data": {
      "text/plain": [
       "solve_gusto (generic function with 2 methods)"
      ]
     },
     "execution_count": 12,
     "metadata": {},
     "output_type": "execute_result"
    }
   ],
   "source": [
    "function solve_gusto(model, N, MAX_ITERATIONS_NB, verbose = true)\n",
    "    \n",
    "    Xp,Up = initialize_trajectory(model, N)\n",
    "    X, U  = copy(Xp)  , copy(Up) \n",
    "\n",
    "    SCPproblem = GuSTOProblem(model, N, Xp, Up)\n",
    "\n",
    "    x_dim, u_dim = model.x_dim, model.u_dim\n",
    "\n",
    "    Delta0, omega0, omegamax, \n",
    "        epsilon, rho0, rho1, \n",
    "        beta_succ, beta_fail, gamma_fail, \n",
    "        convergence_threshold = get_initial_gusto_parameters(model)\n",
    "\n",
    "    Delta = Delta0\n",
    "    omega = omega0\n",
    "\n",
    "    X_all, U_all = [], []\n",
    "    push!(X_all, copy(X))\n",
    "    push!(U_all, copy(U))\n",
    "\n",
    "    B_success = false\n",
    "    it = 0\n",
    "\n",
    "    while it<MAX_ITERATIONS_NB && \n",
    "            !(it!=0 && it!=1 && it!=2 && it!=3 && B_success && \n",
    "                convergence_metric(model,X,U,Xp,Up)<convergence_threshold) &&\n",
    "            omega<omegamax\n",
    "        if verbose\n",
    "            println(\"-----------\")\n",
    "            println(\"Iteration $it\")\n",
    "            println(\"metric=$(convergence_metric(model,X,U,Xp,Up))\")\n",
    "            println(\"-----------\")\n",
    "        end\n",
    "\n",
    "        Xp = copy(X)\n",
    "        Up = copy(U)\n",
    "\n",
    "        model.f, model.A, model.B = compute_dynamics(model, Xp, Up)\n",
    "\n",
    "        reset_problem(SCPproblem, model)\n",
    "        set_parameters(SCPproblem, model, Xp, Up, omega, Delta)\n",
    "        define_cost(SCPproblem, model)\n",
    "        define_constraints(SCPproblem, model)\n",
    "\n",
    "        JuMP.optimize!(SCPproblem.solver_model)    \n",
    "\n",
    "        # get solution\n",
    "        X_sol = JuMP.value.(SCPproblem.X)\n",
    "        U_sol = JuMP.value.(SCPproblem.U)\n",
    "\n",
    "        # -----------\n",
    "        # GuSTO Logic\n",
    "        if it > 3\n",
    "            if is_in_trust_region(model, X_sol, U_sol, Xp, Up, Delta)\n",
    "                rho = accuracy_ratio(SCPproblem, model, X_sol, U_sol, Xp, Up)\n",
    "\n",
    "                if rho > rho1\n",
    "                    if verbose\n",
    "                        println(\"Reject solution.\")\n",
    "                    end\n",
    "                    Delta = beta_fail * Delta\n",
    "                    omega     = omega\n",
    "                    B_success = false\n",
    "\n",
    "                else\n",
    "                    if verbose\n",
    "                        println(\"Accept solution.\")\n",
    "                    end\n",
    "                    X = copy(X_sol)\n",
    "                    U = copy(U_sol)\n",
    "                    B_success = true\n",
    "                    if rho < rho0\n",
    "                        Delta = min(beta_succ*Delta, Delta0)\n",
    "                    else\n",
    "                        Delta = Delta\n",
    "                    end\n",
    "                    if satisfies_state_inequality_constraints(SCPproblem, model, X_sol, U_sol, Xp, Up, Delta)\n",
    "                        omega = omega0\n",
    "                    else\n",
    "                        if verbose\n",
    "                            println(\"Solution does not satisfy state constraints, increasing omega.\")\n",
    "                        end\n",
    "                        omega = gamma_fail * omega\n",
    "                        B_success = false\n",
    "                    end\n",
    "                end\n",
    "            else\n",
    "                if verbose\n",
    "                    println(\"Reject solution (Outside trust region)\")\n",
    "                end\n",
    "                Delta = Delta\n",
    "                omega     = gamma_fail * omega\n",
    "                B_success = false\n",
    "            end\n",
    "\n",
    "        else # always accept first solution\n",
    "            X = copy(X_sol)\n",
    "            U = copy(U_sol)\n",
    "        end\n",
    "\n",
    "\n",
    "        # -----------\n",
    "\n",
    "        push!(X_all, copy(X))\n",
    "        push!(U_all, copy(U))\n",
    "\n",
    "\n",
    "        it += 1\n",
    "\n",
    "        diff_with_prev = norm(copy(X) - copy(Xp), Inf)\n",
    "        if verbose\n",
    "            println(\"x(k) - x(k-1) = $diff_with_prev\")\n",
    "            println(\"Parameters:\")\n",
    "            println(\"omega=$omega\")\n",
    "            println(\"delta=$Delta\")\n",
    "        end\n",
    "    end\n",
    "    curr_conv_metric = convergence_metric(model,X,U,Xp,Up)\n",
    "    if (B_success && \n",
    "                curr_conv_metric<convergence_threshold)\n",
    "        if verbose\n",
    "            println(\"Converged\")\n",
    "        end\n",
    "        isConverged = true\n",
    "    else\n",
    "        if verbose\n",
    "            println(\"Not converged. Metric =$curr_conv_metric\")\n",
    "        end\n",
    "        isConverged = false\n",
    "    end\n",
    "    return isConverged, X_all, U_all\n",
    "end"
   ]
  },
  {
   "cell_type": "code",
   "execution_count": 13,
   "metadata": {},
   "outputs": [
    {
     "data": {
      "text/plain": [
       "isInsideObstacle (generic function with 1 method)"
      ]
     },
     "execution_count": 13,
     "metadata": {},
     "output_type": "execute_result"
    }
   ],
   "source": [
    "function isInsideObstacle(x, model)\n",
    "    isInside = false\n",
    "    for obs in model.obstacles\n",
    "        center = obs[1]\n",
    "        radius = obs[2]\n",
    "        if norm(x[1:3] - center) < radius\n",
    "            isInside = true\n",
    "            return isInside\n",
    "        end\n",
    "    end\n",
    "    for obs in model.poly_obstacles\n",
    "        center = obs.c\n",
    "        dx = obs.dx\n",
    "        dy = obs.dy\n",
    "        dz = obs.dz\n",
    "        x_max = center[1]+dx\n",
    "        y_max = center[2]+dy\n",
    "        z_max = center[3]+dz\n",
    "        x_min = center[1]-dx\n",
    "        y_min = center[2]-dy\n",
    "        z_min = center[3]-dz\n",
    "        if (x[1]<= x_max && x[1] >= x_min && \n",
    "            x[2]<= y_max && x[2] >= y_min &&\n",
    "            x[3]<= z_max && x[3] >= z_min)\n",
    "            isInside = true\n",
    "            return isInside\n",
    "        end\n",
    "    end\n",
    "    return isInside\n",
    "end"
   ]
  },
  {
   "cell_type": "code",
   "execution_count": 14,
   "metadata": {},
   "outputs": [
    {
     "data": {
      "text/plain": [
       "plot_solution (generic function with 1 method)"
      ]
     },
     "execution_count": 14,
     "metadata": {},
     "output_type": "execute_result"
    }
   ],
   "source": [
    "function plot_solution(model, X_all)\n",
    "    N = length(X_all)\n",
    "\n",
    "    idx = [1,2]\n",
    "    local fig\n",
    "    fig = plot()\n",
    "    for iter = 1:length(X_all)\n",
    "        X = X_all[iter]\n",
    "        plot!(fig, X[1,:], X[2,:]; c=:blue)\n",
    "    end\n",
    "\n",
    "    for obs_i = 1:length(model.obstacles)\n",
    "        p_obs, obs_radius = model.obstacles[obs_i][1], model.obstacles[obs_i][2]\n",
    "        plot_circle(p_obs[idx], obs_radius; color=:red, fig=fig)\n",
    "    end\n",
    "\n",
    "    return fig\n",
    "end"
   ]
  },
  {
   "cell_type": "code",
   "execution_count": 22,
   "metadata": {},
   "outputs": [
    {
     "data": {
      "text/plain": [
       "plot_env_and_trajs (generic function with 2 methods)"
      ]
     },
     "execution_count": 22,
     "metadata": {},
     "output_type": "execute_result"
    }
   ],
   "source": [
    "function plot_env_and_trajs(model, X_all, labls = :None)\n",
    "    N = length(X_all)\n",
    "    if labls == :None\n",
    "        labls = fill(\"\",(size(X_all,1),1))\n",
    "    end\n",
    "    if size(X_all,1)>1\n",
    "        labls[end] = \"Solution\"\n",
    "    end\n",
    "    \n",
    "    idx = [1,2]\n",
    "    local fig\n",
    "    fig = plot(framestyle = :box)\n",
    "    for iter = 1:length(X_all)\n",
    "        X = X_all[iter]\n",
    "        plot!(fig, X[idx[1],:], X[idx[2],:];line=(5, :dash), lab = labls[iter])\n",
    "    end\n",
    "\n",
    "    for obs_i = 1:length(model.obstacles)\n",
    "        p_obs, obs_radius = model.obstacles[obs_i][1], model.obstacles[obs_i][2]\n",
    "        plot_circle(p_obs[idx], obs_radius,lab =\"\"; color=:red, fig=fig)\n",
    "    end\n",
    "    \n",
    "    for obs_i = 1:length(model.poly_obstacles)\n",
    "        center =  model.poly_obstacles[obs_i].c\n",
    "        (c1,c2) = center[idx]\n",
    "        if idx[1] == 1\n",
    "            r1 = model.poly_obstacles[obs_i].dx\n",
    "        elseif idx[1] == 2\n",
    "            r1 = model.poly_obstacles[obs_i].dy\n",
    "        else\n",
    "            r1 = model.poly_obstacles[obs_i].dz\n",
    "        end\n",
    "        if idx[2] == 1\n",
    "            r2 = model.poly_obstacles[obs_i].dx\n",
    "        elseif idx[2] == 2\n",
    "            r2 = model.poly_obstacles[obs_i].dy\n",
    "        else\n",
    "            r2 = model.poly_obstacles[obs_i].dz\n",
    "        end\n",
    "        lab = \"\"\n",
    "        color = :red\n",
    "        plot!(Shape([(c1-r1,c2-r2), (c1-r1,c2+r2), (c1+r1,c2+r2), (c1+r1, c2-r2)]), seriestype = [:shape,], lw = 0.5,\n",
    "                c = color, linecolor = :black,\n",
    "                legend = false, fillalpha = 0.5, aspect_ratio = 1, label = lab)\n",
    "    end\n",
    "    xlims!((model.x_min[idx[1]],model.x_max[idx[1]]))\n",
    "    ylims!((model.x_min[idx[2]],model.x_max[idx[2]]))\n",
    "    plot!(leg = true)\n",
    "    return fig\n",
    "end"
   ]
  },
  {
   "cell_type": "code",
   "execution_count": 16,
   "metadata": {},
   "outputs": [
    {
     "data": {
      "text/plain": [
       "storeInputOutput (generic function with 1 method)"
      ]
     },
     "execution_count": 16,
     "metadata": {},
     "output_type": "execute_result"
    }
   ],
   "source": [
    "function storeInputOutput(x_init, x_final, X_soln, U_soln)\n",
    "    # X_soln # This is 13x50. I want this to be 1x13*50\n",
    "    # U_soln # This is 6x 49. I want this to be 1x6*49\n",
    "    X_row = (X_soln[:]) # 650 elements All at time 1 together (13), then next 13 for time 2, etc, \n",
    "    U_row = (U_soln[:]) # 294 elements All at time 1 together (6), then next 6 for time 2, etc.\n",
    "    train_output = vcat([X_row, U_row]...)' # This is 944 elements\n",
    "    train_input = vcat([x_init, x_final]...)' # This is 26 elements\n",
    "    return train_input, train_output\n",
    "end"
   ]
  },
  {
   "cell_type": "markdown",
   "metadata": {},
   "source": [
    "# How to recover solutions from training data"
   ]
  },
  {
   "cell_type": "code",
   "execution_count": 17,
   "metadata": {},
   "outputs": [
    {
     "data": {
      "text/plain": [
       "getComponentsFromData (generic function with 1 method)"
      ]
     },
     "execution_count": 17,
     "metadata": {},
     "output_type": "execute_result"
    }
   ],
   "source": [
    "function getComponentsFromData(train_input, train_output)\n",
    "    N = 50 \n",
    "    x_dim = 13\n",
    "    u_dim = 6\n",
    "    x_init = train_input[1:x_dim]\n",
    "    x_final = train_input[x_dim+1:end]\n",
    "    X_row = train_output[1:x_dim*N]\n",
    "    X_soln = reshape(X_row, (x_dim,N))\n",
    "    U_row = train_output[(1+x_dim*N) : end]\n",
    "    U_soln = reshape(U_row, (u_dim,N-1))\n",
    "    return x_init, x_final, X_soln, U_soln\n",
    "end"
   ]
  },
  {
   "cell_type": "code",
   "execution_count": 18,
   "metadata": {},
   "outputs": [
    {
     "ename": "UndefVarError",
     "evalue": "UndefVarError: x_init not defined",
     "output_type": "error",
     "traceback": [
      "UndefVarError: x_init not defined",
      "",
      "Stacktrace:",
      " [1] top-level scope at In[18]:1"
     ]
    }
   ],
   "source": [
    "train_input, train_output = storeInputOutput(x_init, x_final, X_soln, U_soln)\n",
    "x_init_recov, x_final_recov, X_soln_recov, U_soln_recov = getComponentsFromData(train_input, train_output)\n",
    "@show (x_init == x_init_recov)\n",
    "@show (x_final == x_final_recov)\n",
    "@show (X_soln == X_soln_recov)\n",
    "@show (U_soln == U_soln_recov)"
   ]
  },
  {
   "cell_type": "markdown",
   "metadata": {},
   "source": [
    "# Simpler case"
   ]
  },
  {
   "cell_type": "code",
   "execution_count": null,
   "metadata": {},
   "outputs": [],
   "source": [
    "N = 50\n",
    "MAX_ITERATIONS_NB = 100\n",
    "\n",
    "model = AstrobeeSE3()\n",
    "\n",
    "# Set up environment\n",
    "model.x_max[1:3] = [10.0; 10.0; 1.0]\n",
    "model.x_min[1:3] = [0.0; 0.0; 0.0]\n",
    "\n",
    "obstacles = []\n",
    "# obs = [[0.0,0.0,0.0], 6.0]\n",
    "# push!(obstacles, obs)\n",
    "model.obstacles = obstacles\n",
    "\n",
    "poly_obstacles = []\n",
    "obs = PolygonalObstacle([2.5,2.5,0], [5.0, 5.0, 2.0])\n",
    "push!(poly_obstacles, obs)\n",
    "# obs = PolygonalObstacle([7.0,3.0,0], [1.0, 1.0, 2.0])\n",
    "# push!(poly_obstacles, obs)\n",
    "model.poly_obstacles = poly_obstacles\n",
    "\n",
    "model.tf_guess = 110.\n",
    "model.convergence_threshold = 0.7\n",
    "\n",
    "model.x_init = [1.0;7.0;0.5;  0;0;0;  0.;0.;0.; 1.;  0;0;0]\n",
    "model.x_final = [8.0 ;1.0;0.5;  0;0;0;  0.;0.;1.; 0.;  0;0;0]\n",
    "\n",
    "time_start = time_ns()\n",
    "isConverged, X_all, U_all = solve_gusto(model, N, MAX_ITERATIONS_NB, false)\n",
    "gusto_solve_time = (time_ns() - time_start)/10^9\n",
    "@show gusto_solve_time\n",
    "@show size(X_all)\n",
    "@show size(U_all)"
   ]
  },
  {
   "cell_type": "code",
   "execution_count": null,
   "metadata": {},
   "outputs": [],
   "source": [
    "plot_env_and_trajs(model, X_all)"
   ]
  },
  {
   "cell_type": "markdown",
   "metadata": {},
   "source": [
    "# Testing obstacle function"
   ]
  },
  {
   "cell_type": "code",
   "execution_count": 10,
   "metadata": {},
   "outputs": [
    {
     "ename": "UndefVarError",
     "evalue": "UndefVarError: AstrobeeSE3 not defined",
     "output_type": "error",
     "traceback": [
      "UndefVarError: AstrobeeSE3 not defined",
      "",
      "Stacktrace:",
      " [1] top-level scope at In[10]:3"
     ]
    }
   ],
   "source": [
    "N = 50\n",
    "MAX_ITERATIONS_NB = 100\n",
    "\n",
    "model = AstrobeeSE3()\n",
    "\n",
    "# Set up environment\n",
    "model.x_max[1:3] = [10.0; 10.0; 1.0]\n",
    "model.x_min[1:3] = [0.0; 0.0; 0.0]\n",
    "\n",
    "obstacles = []\n",
    "# obs = [[0.0,0.0,0.0], 6.0]\n",
    "# push!(obstacles, obs)\n",
    "model.obstacles = obstacles\n",
    "\n",
    "poly_obstacles = []\n",
    "obs = PolygonalObstacle([2.5,2.5,0], [5.0, 5.0, 2.0])\n",
    "push!(poly_obstacles, obs)\n",
    "obs = PolygonalObstacle([7.0,3.0,0], [1.0, 1.0, 2.0])\n",
    "push!(poly_obstacles, obs)\n",
    "model.poly_obstacles = poly_obstacles\n",
    "\n",
    "model.tf_guess = 110.\n",
    "model.convergence_threshold = 0.7\n",
    "\n",
    "model.x_init = [1.0;7.0;0.5;  0;0;0;  0.;0.;0.; 1.;  0;0;0]\n",
    "model.x_final = [8.0 ;1.0;0.5;  0;0;0;  0.;0.;1.; 0.;  0;0;0]\n",
    "\n",
    "time_start = time_ns()\n",
    "isConverged, X_all, U_all = solve_gusto(model, N, MAX_ITERATIONS_NB, false)\n",
    "gusto_solve_time = (time_ns() - time_start)/10^9\n",
    "@show gusto_solve_time\n",
    "@show size(X_all)\n",
    "@show size(U_all)"
   ]
  },
  {
   "cell_type": "code",
   "execution_count": 35,
   "metadata": {},
   "outputs": [
    {
     "data": {
      "text/plain": [
       "true"
      ]
     },
     "execution_count": 35,
     "metadata": {},
     "output_type": "execute_result"
    }
   ],
   "source": [
    "x_init = [7.0;3.0;1.0; 0;0;0;  0.;0.;0.; 1.;  0;0;0]\n",
    "isInsideObstacle(x_init, model)"
   ]
  },
  {
   "cell_type": "code",
   "execution_count": null,
   "metadata": {},
   "outputs": [],
   "source": [
    "# labs = fill(\"\",(size(X_all,1),1))\n",
    "# labs[end] = \"Solution\"\n",
    "plot_env_and_trajs(model, X_all)"
   ]
  },
  {
   "cell_type": "code",
   "execution_count": null,
   "metadata": {},
   "outputs": [],
   "source": []
  },
  {
   "cell_type": "markdown",
   "metadata": {},
   "source": [
    "# Collecting data"
   ]
  },
  {
   "cell_type": "code",
   "execution_count": null,
   "metadata": {},
   "outputs": [
    {
     "name": "stdout",
     "output_type": "stream",
     "text": [
      "problemNumber = 1\n",
      "isConverged = true\n",
      "size(train_input_collected) = (1, 26)\n",
      "size(train_output_collected) = (1, 944)\n",
      "problemNumber = 2\n",
      "isConverged = true\n",
      "size(train_input_collected) = (2, 26)\n",
      "size(train_output_collected) = (2, 944)\n",
      "problemNumber = 3\n",
      "isConverged = true\n",
      "size(train_input_collected) = (3, 26)\n",
      "size(train_output_collected) = (3, 944)\n",
      "problemNumber = 4\n",
      "isConverged = true\n",
      "size(train_input_collected) = (4, 26)\n",
      "size(train_output_collected) = (4, 944)\n",
      "problemNumber = 5\n",
      "isConverged = true\n",
      "size(train_input_collected) = (5, 26)\n",
      "size(train_output_collected) = (5, 944)\n",
      "problemNumber = 6\n",
      "isConverged = true\n",
      "size(train_input_collected) = (6, 26)\n",
      "size(train_output_collected) = (6, 944)\n",
      "problemNumber = 7\n",
      "isConverged = true\n",
      "size(train_input_collected) = (7, 26)\n",
      "size(train_output_collected) = (7, 944)\n",
      "problemNumber = 8\n",
      "InterruptException()\n",
      "isConverged = true\n",
      "size(train_input_collected) = (8, 26)\n",
      "size(train_output_collected) = (8, 944)\n",
      "problemNumber = 9\n",
      "isConverged = true\n",
      "size(train_input_collected) = (9, 26)\n",
      "size(train_output_collected) = (9, 944)\n",
      "problemNumber = 10\n",
      "isConverged = true\n",
      "size(train_input_collected) = (10, 26)\n",
      "size(train_output_collected) = (10, 944)\n",
      "problemNumber = 11\n",
      "isConverged = true\n",
      "size(train_input_collected) = (11, 26)\n",
      "size(train_output_collected) = (11, 944)\n",
      "problemNumber = 12\n",
      "isConverged = true\n",
      "size(train_input_collected) = (12, 26)\n",
      "size(train_output_collected) = (12, 944)\n",
      "problemNumber = 13\n",
      "isConverged = true\n",
      "size(train_input_collected) = (13, 26)\n",
      "size(train_output_collected) = (13, 944)\n",
      "problemNumber = 14\n",
      "InterruptException()\n",
      "isConverged = true\n",
      "size(train_input_collected) = (14, 26)\n",
      "size(train_output_collected) = (14, 944)\n",
      "problemNumber = 15\n",
      "InterruptException()\n",
      "isConverged = true\n",
      "size(train_input_collected) = (15, 26)\n",
      "size(train_output_collected) = (15, 944)\n",
      "problemNumber = 16\n",
      "InterruptException()\n",
      "isConverged = true\n",
      "size(train_input_collected) = (16, 26)\n",
      "size(train_output_collected) = (16, 944)\n",
      "problemNumber = 17\n",
      "InterruptException()\n",
      "isConverged = true\n",
      "size(train_input_collected) = (17, 26)\n",
      "size(train_output_collected) = (17, 944)\n",
      "problemNumber = 18\n",
      "InterruptException()\n",
      "isConverged = true\n",
      "size(train_input_collected) = (18, 26)\n",
      "size(train_output_collected) = (18, 944)\n",
      "problemNumber = 19\n",
      "InterruptException()\n",
      "isConverged = true\n",
      "size(train_input_collected) = (19, 26)\n",
      "size(train_output_collected) = (19, 944)\n",
      "problemNumber = 20\n",
      "InterruptException()\n",
      "isConverged = true\n",
      "size(train_input_collected) = (20, 26)\n",
      "size(train_output_collected) = (20, 944)\n",
      "problemNumber = 21\n",
      "InterruptException()\n",
      "isConverged = true\n",
      "size(train_input_collected) = (21, 26)\n",
      "size(train_output_collected) = (21, 944)\n",
      "problemNumber = 22\n",
      "InterruptException()\n",
      "isConverged = true\n",
      "size(train_input_collected) = (22, 26)\n",
      "size(train_output_collected) = (22, 944)\n",
      "problemNumber = 23\n",
      "InterruptException()\n",
      "isConverged = true\n",
      "size(train_input_collected) = (23, 26)\n",
      "size(train_output_collected) = (23, 944)\n",
      "problemNumber = 24\n",
      "InterruptException()\n",
      "isConverged = true\n",
      "size(train_input_collected) = (24, 26)\n",
      "size(train_output_collected) = (24, 944)\n",
      "problemNumber = 25\n",
      "InterruptException()\n",
      "isConverged = true\n",
      "size(train_input_collected) = (25, 26)\n",
      "size(train_output_collected) = (25, 944)\n",
      "problemNumber = 26\n",
      "InterruptException()\n",
      "isConverged = true\n",
      "size(train_input_collected) = (26, 26)\n",
      "size(train_output_collected) = (26, 944)\n",
      "problemNumber = 27\n",
      "InterruptException()\n",
      "isConverged = true\n",
      "size(train_input_collected) = (27, 26)\n",
      "size(train_output_collected) = (27, 944)\n",
      "problemNumber = 28\n",
      "InterruptException()\n",
      "isConverged = true\n",
      "size(train_input_collected) = (28, 26)\n",
      "size(train_output_collected) = (28, 944)\n",
      "problemNumber = 29\n",
      "InterruptException()"
     ]
    }
   ],
   "source": [
    "N = 50\n",
    "MAX_ITERATIONS_NB = 100\n",
    "\n",
    "model = AstrobeeSE3()\n",
    "\n",
    "# Set up environment\n",
    "model.x_max[1:3] = [10.0; 10.0; 1.0]\n",
    "model.x_min[1:3] = [0.0; 0.0; 0.0]\n",
    "\n",
    "obstacles = []\n",
    "# obs = [[0.0,0.0,0.0], 6.0]\n",
    "# push!(obstacles, obs)\n",
    "model.obstacles = obstacles\n",
    "\n",
    "poly_obstacles = []\n",
    "obs = PolygonalObstacle([2.5,2.5,0], [5.0, 5.0, 2.0])\n",
    "push!(poly_obstacles, obs)\n",
    "obs = PolygonalObstacle([7.0,3.0,0], [1.0, 1.0, 2.0])\n",
    "push!(poly_obstacles, obs)\n",
    "model.poly_obstacles = poly_obstacles\n",
    "\n",
    "model.tf_guess = 110.\n",
    "model.convergence_threshold = 0.7\n",
    "\n",
    "x_vals = range(model.x_min[1], stop = model.x_max[1], length = 10)\n",
    "y_vals = range(model.x_min[2], stop = model.x_max[2], length = 10)\n",
    "# z_vals = range(model.x_min[3], stop = model.x_max[3], length = 10)\n",
    "z_vals = [0.5]\n",
    "\n",
    "x_vals_rev = range(model.x_max[1], stop = model.x_min[1], length = 10)\n",
    "y_vals_rev = range(model.x_max[2], stop = model.x_min[2], length = 10)\n",
    "# z_vals_rev = range(model.x_max[3], stop = model.x_min[3], length = 10)\n",
    "z_vals_rev = [0.5]\n",
    "\n",
    "problemNumber = 0\n",
    "\n",
    "train_input_collected = Array{Float64}(undef,0,26)\n",
    "train_output_collected = Array{Float64}(undef,0,944)\n",
    "\n",
    "for x_start in x_vals\n",
    "    for y_start in y_vals\n",
    "        for z_start in z_vals\n",
    "            x_init = [x_start;y_start;z_start; 0;0;0;  0.;0.;0.; 1.;  0;0;0]\n",
    "            if isInsideObstacle(x_init, model)\n",
    "                continue\n",
    "            end\n",
    "            for x_goal in x_vals_rev\n",
    "                for y_goal in y_vals_rev\n",
    "                    for z_goal in z_vals_rev\n",
    "                        x_final = [x_goal;y_goal;z_goal; 0;0;0;  0.;0.;1.0; 0.;  0;0;0]\n",
    "                        if isInsideObstacle(x_final, model)\n",
    "                            continue\n",
    "                        end\n",
    "                        if norm(x_final[1:3] - x_init[1:3])<1.0\n",
    "                            continue\n",
    "                        end\n",
    "                        \n",
    "                        problemNumber = problemNumber + 1\n",
    "                        @show problemNumber\n",
    "                        \n",
    "                        model.x_init = x_init\n",
    "                        model.x_final = x_final\n",
    "                        \n",
    "                        try\n",
    "                            isConverged, X_all, U_all = solve_gusto(model, N, MAX_ITERATIONS_NB, false)\n",
    "                        catch e\n",
    "                            println(\"$e\")\n",
    "                        end\n",
    "                        @show isConverged\n",
    "                        \n",
    "                        if isConverged\n",
    "                            X_soln = X_all[end]\n",
    "                            U_soln = U_all[end]\n",
    "                            train_input, train_output = storeInputOutput(x_init, x_final, X_soln, U_soln)                            \n",
    "                            train_input_collected = vcat(train_input_collected, train_input)\n",
    "                            train_output_collected = vcat(train_output_collected, train_output)\n",
    "                            @show size(train_input_collected)\n",
    "                            @show size(train_output_collected)\n",
    "                            \n",
    "                            @save \"PolyAstrobee.jld2\" train_input_collected train_output_collected\n",
    "                        end\n",
    "                    end\n",
    "                end\n",
    "            end\n",
    "        end\n",
    "    end\n",
    "end\n"
   ]
  },
  {
   "cell_type": "code",
   "execution_count": null,
   "metadata": {},
   "outputs": [],
   "source": [
    "plot_env_solution(model, X_all)"
   ]
  },
  {
   "cell_type": "code",
   "execution_count": null,
   "metadata": {},
   "outputs": [],
   "source": []
  }
 ],
 "metadata": {
  "kernelspec": {
   "display_name": "Julia 1.0.3",
   "language": "julia",
   "name": "julia-1.0"
  },
  "language_info": {
   "file_extension": ".jl",
   "mimetype": "application/julia",
   "name": "julia",
   "version": "1.0.3"
  }
 },
 "nbformat": 4,
 "nbformat_minor": 2
}

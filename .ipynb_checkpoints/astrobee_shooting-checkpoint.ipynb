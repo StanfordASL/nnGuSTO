{
 "cells": [
  {
   "cell_type": "code",
   "execution_count": 22,
   "metadata": {},
   "outputs": [
    {
     "name": "stdout",
     "output_type": "stream",
     "text": [
      "oh yeah\n"
     ]
    }
   ],
   "source": [
    "include(\"astrobee_se3_script.jl\")\n",
    "using Plots\n",
    "\n",
    "N = 200\n",
    "MAX_ITERATIONS_NB = 100\n",
    "\n",
    "model = Astrobee()\n",
    "\n",
    "Xp,Up = initialize_trajectory(model, N)\n",
    "X, U  = copy(Xp) .+ 2., copy(Up) .+ 2.\n",
    "\n",
    "SCPproblem = GuSTOProblem(model, N, Xp, Up)\n",
    "\n",
    "x_dim, u_dim = model.x_dim, model.u_dim\n",
    "\n",
    "Delta0, omega0, omegamax, \n",
    "    epsilon, rho0, rho1, \n",
    "    beta_succ, beta_fail, gamma_fail, \n",
    "    convergence_threshold = get_initial_gusto_parameters(model)\n",
    "\n",
    "Delta = Delta0\n",
    "omega = omega0\n",
    "\n",
    "# X = zeros(x_dim, N)\n",
    "# U = zeros(u_dim, N-1)\n",
    "println(\"oh yeah\")"
   ]
  },
  {
   "cell_type": "code",
   "execution_count": 23,
   "metadata": {},
   "outputs": [],
   "source": [
    "\n",
    "#     problem = Model(with_optimizer(Ipopt.Optimizer, print_level=0))"
   ]
  },
  {
   "cell_type": "code",
   "execution_count": 24,
   "metadata": {},
   "outputs": [
    {
     "data": {
      "text/plain": [
       "5.0"
      ]
     },
     "execution_count": 24,
     "metadata": {},
     "output_type": "execute_result"
    }
   ],
   "source": [
    "gamma_fail"
   ]
  },
  {
   "cell_type": "code",
   "execution_count": 25,
   "metadata": {},
   "outputs": [
    {
     "data": {
      "text/plain": [
       "0.1"
      ]
     },
     "execution_count": 25,
     "metadata": {},
     "output_type": "execute_result"
    }
   ],
   "source": [
    "beta_fail"
   ]
  },
  {
   "cell_type": "code",
   "execution_count": 26,
   "metadata": {
    "scrolled": false
   },
   "outputs": [
    {
     "name": "stdout",
     "output_type": "stream",
     "text": [
      "-----------\n",
      "Iteration 0\n",
      "metric=94.24868789068172\n",
      "-----------\n"
     ]
    },
    {
     "ename": "StackOverflowError",
     "evalue": "StackOverflowError:",
     "output_type": "error",
     "traceback": [
      "StackOverflowError:",
      "",
      "Stacktrace:",
      " [1] generic_norm2(::GenericAffExpr{Float64,VariableRef}) at /buildworker/worker/package_linux64/build/usr/share/julia/stdlib/v1.1/LinearAlgebra/src/generic.jl:320",
      " [2] norm2(::GenericAffExpr{Float64,VariableRef}) at /buildworker/worker/package_linux64/build/usr/share/julia/stdlib/v1.1/LinearAlgebra/src/generic.jl:381",
      " [3] norm(::GenericAffExpr{Float64,VariableRef}, ::Int64) at /buildworker/worker/package_linux64/build/usr/share/julia/stdlib/v1.1/LinearAlgebra/src/generic.jl:450",
      " [4] norm(::GenericAffExpr{Float64,VariableRef}) at /buildworker/worker/package_linux64/build/usr/share/julia/stdlib/v1.1/LinearAlgebra/src/generic.jl:448",
      " [5] generic_normInf(::GenericAffExpr{Float64,VariableRef}) at /buildworker/worker/package_linux64/build/usr/share/julia/stdlib/v1.1/LinearAlgebra/src/generic.jl:289",
      " [6] normInf(::GenericAffExpr{Float64,VariableRef}) at /buildworker/worker/package_linux64/build/usr/share/julia/stdlib/v1.1/LinearAlgebra/src/generic.jl:379",
      " ... (the last 6 lines are repeated 13332 more times)",
      " [79999] generic_norm2(::GenericAffExpr{Float64,VariableRef}) at /buildworker/worker/package_linux64/build/usr/share/julia/stdlib/v1.1/LinearAlgebra/src/generic.jl:320"
     ]
    }
   ],
   "source": [
    "include(\"astrobee_se3_script.jl\")\n",
    "\n",
    "X_all, U_all, x_shooting_all = [], [], []\n",
    "push!(X_all, copy(X))\n",
    "push!(U_all, copy(U))\n",
    "\n",
    "B_success = false\n",
    "it = 0\n",
    "\n",
    "while it<MAX_ITERATIONS_NB && \n",
    "        !(it!=0 && it!=1 && it!=2 && it!=3 && B_success && \n",
    "            convergence_metric(model,X,U,Xp,Up)<convergence_threshold) &&\n",
    "        omega<omegamax\n",
    "    println(\"-----------\")\n",
    "    println(\"Iteration $it\")\n",
    "    println(\"metric=$(convergence_metric(model,X,U,Xp,Up))\")\n",
    "    println(\"-----------\")\n",
    "    \n",
    "    \n",
    "#     omega, Delta = SCPproblem.omega, SCPproblem.Delta\n",
    "    \n",
    "    Xp = copy(X)\n",
    "    Up = copy(U)\n",
    "    \n",
    "    model.f, model.A, model.B = compute_dynamics(model, Xp, Up)\n",
    "    \n",
    "    reset_problem(SCPproblem, model)\n",
    "    set_parameters(SCPproblem, model, Xp, Up, omega, Delta)\n",
    "    define_cost(SCPproblem, model)\n",
    "    define_constraints(SCPproblem, model)\n",
    "    \n",
    "    JuMP.optimize!(SCPproblem.solver_model)    \n",
    "    p0 = get_initial_constraint_dual_variable(SCPproblem, model)\n",
    "    println(\"dual variables:\", p0)\n",
    "    # get solution\n",
    "    X_sol = JuMP.value.(SCPproblem.X)\n",
    "    U_sol = JuMP.value.(SCPproblem.U)\n",
    "    \n",
    "    # try shooting\n",
    "    #x_shooting, sol_newton = solve_shooting(SCPproblem, model, p0)\n",
    "#     x_shooting = solve_shooting_once(SCPproblem, model, p0)\n",
    "    #push!(x_shooting_all, x_shooting)\n",
    "    \n",
    "    # -----------\n",
    "    # GuSTO Logic\n",
    "    if it > 3\n",
    "        if is_in_trust_region(model, X_sol, U_sol, Xp, Up, Delta)\n",
    "            rho = accuracy_ratio(SCPproblem, model, X_sol, U_sol, Xp, Up)\n",
    "\n",
    "            if rho > rho1\n",
    "                println(\"Reject solution.\")\n",
    "                Delta = beta_fail * Delta\n",
    "                omega     = omega\n",
    "                B_success = false\n",
    "\n",
    "            else\n",
    "                println(\"Accept solution.\")\n",
    "                X = copy(X_sol)\n",
    "                U = copy(U_sol)\n",
    "                B_success = true\n",
    "                if rho < rho0\n",
    "                    Delta = min(beta_succ*Delta, Delta0)\n",
    "                else\n",
    "                    Delta = Delta\n",
    "                end\n",
    "                if satisfies_state_inequality_constraints(SCPproblem, model, X_sol, U_sol, Xp, Up, Delta)\n",
    "                    omega = omega0\n",
    "                else\n",
    "                    println(\"Solution does not satisfy state constraints, increasing omega.\")\n",
    "                    omega = gamma_fail * omega\n",
    "                end\n",
    "            end\n",
    "        else\n",
    "            println(\"Reject solution (Outside trust region)\")\n",
    "            Delta = Delta\n",
    "            omega     = gamma_fail * omega\n",
    "            B_success = false\n",
    "        end\n",
    "#         if convergence_metric(model,X,U,Xp,Up) <0.6\n",
    "#             println(\"Convergence metric very small. Decreasing Delta.\")\n",
    "#             Delta = Delta0./(2^it)\n",
    "#         end\n",
    "            \n",
    "    else # always accept first solution\n",
    "        X = copy(X_sol)\n",
    "        U = copy(U_sol)\n",
    "    end\n",
    "        \n",
    "                    \n",
    "    # -----------\n",
    "\n",
    "    push!(X_all, copy(X))\n",
    "    push!(U_all, copy(U))\n",
    "                    \n",
    "    \n",
    "    it += 1\n",
    "    \n",
    "    diff_with_prev = norm(copy(X) - copy(Xp), Inf)\n",
    "    println(\"x(k) - x(k-1) = $diff_with_prev\")\n",
    "    println(\"Parameters:\")\n",
    "    println(\"omega=$omega\")\n",
    "    println(\"delta=$Delta\")\n",
    "end\n",
    "println(\"Converged\")"
   ]
  },
  {
   "cell_type": "code",
   "execution_count": 7,
   "metadata": {
    "scrolled": true
   },
   "outputs": [
    {
     "ename": "UndefVarError",
     "evalue": "UndefVarError: gamma_fail not defined",
     "output_type": "error",
     "traceback": [
      "UndefVarError: gamma_fail not defined",
      "",
      "Stacktrace:",
      " [1] top-level scope at In[7]:1"
     ]
    }
   ],
   "source": [
    "gamma_fail"
   ]
  },
  {
   "cell_type": "code",
   "execution_count": 8,
   "metadata": {
    "scrolled": true
   },
   "outputs": [
    {
     "ename": "UndefVarError",
     "evalue": "UndefVarError: get_initial_constraint_dual_variable not defined",
     "output_type": "error",
     "traceback": [
      "UndefVarError: get_initial_constraint_dual_variable not defined",
      "",
      "Stacktrace:",
      " [1] top-level scope at In[8]:1"
     ]
    }
   ],
   "source": [
    "init_duals = get_initial_constraint_dual_variable(SCPproblem, model)"
   ]
  },
  {
   "cell_type": "code",
   "execution_count": 9,
   "metadata": {},
   "outputs": [
    {
     "ename": "LoadError",
     "evalue": "LoadError: syntax: invalid syntax \"-2.*\"; add space(s) to clarify\nin expression starting at /home/freeflyerhub/GuSTO_shooting/jlGuSTO/Models/astrobee_se3.jl:390",
     "output_type": "error",
     "traceback": [
      "LoadError: syntax: invalid syntax \"-2.*\"; add space(s) to clarify\nin expression starting at /home/freeflyerhub/GuSTO_shooting/jlGuSTO/Models/astrobee_se3.jl:390",
      "",
      "Stacktrace:",
      " [1] include at ./boot.jl:326 [inlined]",
      " [2] include_relative(::Module, ::String) at ./loading.jl:1038",
      " [3] include(::Module, ::String) at ./sysimg.jl:29",
      " [4] include(::String) at ./client.jl:403",
      " [5] top-level scope at none:0",
      " [6] include at ./boot.jl:326 [inlined]",
      " [7] include_relative(::Module, ::String) at ./loading.jl:1038",
      " [8] include(::Module, ::String) at ./sysimg.jl:29",
      " [9] include(::String) at ./client.jl:403",
      " [10] top-level scope at In[9]:1"
     ]
    }
   ],
   "source": [
    "include(\"astrobee_se3_script.jl\")\n",
    " \n",
    "sol_newton = solve_shooting(SCPproblem, model, get_initial_constraint_dual_variable(SCPproblem, model))\n",
    "#x_shooting = solve_shooting_once(SCPproblem, model, sol_newton.zero)"
   ]
  },
  {
   "cell_type": "code",
   "execution_count": 10,
   "metadata": {},
   "outputs": [
    {
     "ename": "UndefVarError",
     "evalue": "UndefVarError: x_shooting not defined",
     "output_type": "error",
     "traceback": [
      "UndefVarError: x_shooting not defined",
      "",
      "Stacktrace:",
      " [1] top-level scope at In[10]:1"
     ]
    }
   ],
   "source": [
    "xN = x_shooting[:,end]\n",
    "\n",
    "for i = 1:x_dim\n",
    "    Fi = model.x_final[i] - xN[i]\n",
    "    @show Fi\n",
    "end"
   ]
  },
  {
   "cell_type": "code",
   "execution_count": 11,
   "metadata": {},
   "outputs": [
    {
     "ename": "UndefVarError",
     "evalue": "UndefVarError: x_shooting_all not defined",
     "output_type": "error",
     "traceback": [
      "UndefVarError: x_shooting_all not defined",
      "",
      "Stacktrace:",
      " [1] top-level scope at ./In[11]:1"
     ]
    }
   ],
   "source": [
    "\n",
    "    for x_shooting in x_shooting_all\n",
    "        if size(x_shooting,1) > 1\n",
    "        @show minimum(x_shooting)\n",
    "        end\n",
    "end"
   ]
  },
  {
   "cell_type": "code",
   "execution_count": 12,
   "metadata": {},
   "outputs": [
    {
     "ename": "UndefVarError",
     "evalue": "UndefVarError: x_shooting_all not defined",
     "output_type": "error",
     "traceback": [
      "UndefVarError: x_shooting_all not defined",
      "",
      "Stacktrace:",
      " [1] top-level scope at In[12]:1"
     ]
    }
   ],
   "source": [
    "x_shooting_all"
   ]
  },
  {
   "cell_type": "code",
   "execution_count": 13,
   "metadata": {},
   "outputs": [
    {
     "ename": "LoadError",
     "evalue": "LoadError: syntax: invalid syntax \"-2.*\"; add space(s) to clarify\nin expression starting at /home/freeflyerhub/GuSTO_shooting/jlGuSTO/Models/astrobee_se3.jl:390",
     "output_type": "error",
     "traceback": [
      "LoadError: syntax: invalid syntax \"-2.*\"; add space(s) to clarify\nin expression starting at /home/freeflyerhub/GuSTO_shooting/jlGuSTO/Models/astrobee_se3.jl:390",
      "",
      "Stacktrace:",
      " [1] include at ./boot.jl:326 [inlined]",
      " [2] include_relative(::Module, ::String) at ./loading.jl:1038",
      " [3] include(::Module, ::String) at ./sysimg.jl:29",
      " [4] include(::String) at ./client.jl:403",
      " [5] top-level scope at none:0",
      " [6] include at ./boot.jl:326 [inlined]",
      " [7] include_relative(::Module, ::String) at ./loading.jl:1038",
      " [8] include(::Module, ::String) at ./sysimg.jl:29",
      " [9] include(::String) at ./client.jl:403",
      " [10] top-level scope at In[13]:1"
     ]
    }
   ],
   "source": [
    "include(\"astrobee_se3_script.jl\")\n",
    "#plot(X[1,:],X[2,:])\n",
    "\n",
    "plot_solutions(SCPproblem, model, X_all[end-1:end], U_all[end-1:end]; x_shooting_all=x_shooting_all)"
   ]
  },
  {
   "cell_type": "code",
   "execution_count": 14,
   "metadata": {
    "scrolled": true
   },
   "outputs": [
    {
     "ename": "UndefVarError",
     "evalue": "UndefVarError: X_all not defined",
     "output_type": "error",
     "traceback": [
      "UndefVarError: X_all not defined",
      "",
      "Stacktrace:",
      " [1] top-level scope at In[14]:1"
     ]
    }
   ],
   "source": [
    "X = X_all[end]\n",
    "# Xs = x_shooting_all[2]\n",
    " fig = plot(X[1,:], X[2,:], X[3,:]; c=:blue, lims = (-0.7,0.7))\n",
    "# plot!(fig, Xs[1,:], Xs[2,:], Xs[3,:]; c=:red)\n",
    "\n",
    "xlims = (0,10)\n",
    "zlims = (0,10)\n",
    "fig"
   ]
  },
  {
   "cell_type": "code",
   "execution_count": null,
   "metadata": {},
   "outputs": [],
   "source": []
  },
  {
   "cell_type": "code",
   "execution_count": 15,
   "metadata": {
    "scrolled": false
   },
   "outputs": [
    {
     "ename": "UndefVarError",
     "evalue": "UndefVarError: X_all not defined",
     "output_type": "error",
     "traceback": [
      "UndefVarError: X_all not defined",
      "",
      "Stacktrace:",
      " [1] top-level scope at In[15]:2"
     ]
    }
   ],
   "source": [
    "idx = [1,2]\n",
    "x = X_all[2][1,:]\n",
    "y = X_all[2][2,:]\n",
    "z = X_all[2][3,:]\n",
    "# plot(x,  y)\n",
    "plot(1:N, y)"
   ]
  },
  {
   "cell_type": "code",
   "execution_count": null,
   "metadata": {},
   "outputs": [],
   "source": []
  }
 ],
 "metadata": {
  "kernelspec": {
   "display_name": "Julia 1.1.0",
   "language": "julia",
   "name": "julia-1.1"
  },
  "language_info": {
   "file_extension": ".jl",
   "mimetype": "application/julia",
   "name": "julia",
   "version": "1.1.0"
  }
 },
 "nbformat": 4,
 "nbformat_minor": 2
}

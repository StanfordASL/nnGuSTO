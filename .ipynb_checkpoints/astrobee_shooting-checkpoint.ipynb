{
 "cells": [
  {
   "cell_type": "code",
   "execution_count": 5,
   "metadata": {},
   "outputs": [
    {
     "data": {
      "text/plain": [
       "6×29 Array{Float64,2}:\n",
       " 0.0  0.0  0.0  0.0  0.0  0.0  0.0  0.0  …  0.0  0.0  0.0  0.0  0.0  0.0  0.0\n",
       " 0.0  0.0  0.0  0.0  0.0  0.0  0.0  0.0     0.0  0.0  0.0  0.0  0.0  0.0  0.0\n",
       " 0.0  0.0  0.0  0.0  0.0  0.0  0.0  0.0     0.0  0.0  0.0  0.0  0.0  0.0  0.0\n",
       " 0.0  0.0  0.0  0.0  0.0  0.0  0.0  0.0     0.0  0.0  0.0  0.0  0.0  0.0  0.0\n",
       " 0.0  0.0  0.0  0.0  0.0  0.0  0.0  0.0     0.0  0.0  0.0  0.0  0.0  0.0  0.0\n",
       " 0.0  0.0  0.0  0.0  0.0  0.0  0.0  0.0  …  0.0  0.0  0.0  0.0  0.0  0.0  0.0"
      ]
     },
     "execution_count": 5,
     "metadata": {},
     "output_type": "execute_result"
    }
   ],
   "source": [
    "include(\"astrobee_se3_script.jl\")\n",
    "using Plots\n",
    "\n",
    "N = 30\n",
    "MAX_ITERATIONS_NB = 5\n",
    "\n",
    "model = Astrobee()\n",
    "\n",
    "X, U  = initialize_trajectory(model, N)\n",
    "Xp,Up = copy(X), copy(U)\n",
    "\n",
    "SCPproblem = GuSTOProblem(model, N, Xp, Up)\n",
    "\n",
    "x_dim, u_dim = model.x_dim, model.u_dim\n",
    "\n",
    "Delta0, omega0, omegamax, \n",
    "    epsilon, rho0, rho1, \n",
    "    beta_succ, beta_fail, gamma_fail, \n",
    "    convergence_threshold = get_initial_gusto_parameters(model)\n",
    "\n",
    "Delta = Delta0\n",
    "omega = omega0\n",
    "\n",
    "X = zeros(x_dim, N)\n",
    "U = zeros(u_dim, N-1)\n"
   ]
  },
  {
   "cell_type": "code",
   "execution_count": 8,
   "metadata": {},
   "outputs": [
    {
     "data": {
      "text/plain": [
       "30"
      ]
     },
     "execution_count": 8,
     "metadata": {},
     "output_type": "execute_result"
    }
   ],
   "source": [
    "length(SCPproblem.X[1,:])"
   ]
  },
  {
   "cell_type": "code",
   "execution_count": 2,
   "metadata": {},
   "outputs": [],
   "source": [
    "\n",
    "    problem = Model(with_optimizer(Ipopt.Optimizer))\n",
    "@variable(problem, x[1:3,1:7]);"
   ]
  },
  {
   "cell_type": "code",
   "execution_count": 3,
   "metadata": {},
   "outputs": [
    {
     "ename": "LoadError",
     "evalue": "LoadError: syntax: incomplete: \"function\" at /home/freeflyerhub/GuSTO_shooting/jlGuSTO/SCP/gusto_problem.jl:56 requires end\nin expression starting at /home/freeflyerhub/GuSTO_shooting/jlGuSTO/SCP/gusto_problem.jl:56",
     "output_type": "error",
     "traceback": [
      "LoadError: syntax: incomplete: \"function\" at /home/freeflyerhub/GuSTO_shooting/jlGuSTO/SCP/gusto_problem.jl:56 requires end\nin expression starting at /home/freeflyerhub/GuSTO_shooting/jlGuSTO/SCP/gusto_problem.jl:56",
      "",
      "Stacktrace:",
      " [1] include at ./boot.jl:317 [inlined]",
      " [2] include_relative(::Module, ::String) at ./loading.jl:1044",
      " [3] include(::Module, ::String) at ./sysimg.jl:29",
      " [4] include(::String) at ./client.jl:392",
      " [5] top-level scope at none:0",
      " [6] include at ./boot.jl:317 [inlined]",
      " [7] include_relative(::Module, ::String) at ./loading.jl:1044",
      " [8] include(::Module, ::String) at ./sysimg.jl:29",
      " [9] include(::String) at ./client.jl:392",
      " [10] top-level scope at In[3]:1"
     ]
    }
   ],
   "source": [
    "include(\"astrobee_se3_script.jl\")\n",
    "B_success = false\n",
    "it = 0\n",
    "while it<MAX_ITERATIONS_NB && \n",
    "        !(it!=0 && it!=1 && B_success && \n",
    "            convergence_metric(model,X,U,Xp,Up)<convergence_threshold) &&\n",
    "        omega<omegamax\n",
    "    println(\"-----------\")\n",
    "    println(\"Iteration $it\")\n",
    "    println(\"-----------\")\n",
    "    \n",
    "    Xp = copy(X)\n",
    "    Up = copy(U)\n",
    "    set_parameters(problem, model, Xp, Up)\n",
    "    \n",
    "    model.f, model.A, model.B = compute_dynamics(model, Xp, Up)\n",
    "    it += 1\n",
    "    \n",
    "    println(\"Parameters:\")\n",
    "    println(\"omega=$omega\")\n",
    "    println(\"delta=$Delta\")\n",
    "end\n"
   ]
  },
  {
   "cell_type": "code",
   "execution_count": 4,
   "metadata": {},
   "outputs": [
    {
     "ename": "UndefVarError",
     "evalue": "UndefVarError: X not defined",
     "output_type": "error",
     "traceback": [
      "UndefVarError: X not defined",
      "",
      "Stacktrace:",
      " [1] top-level scope at In[4]:1"
     ]
    }
   ],
   "source": [
    "length(X[1,:])"
   ]
  }
 ],
 "metadata": {
  "kernelspec": {
   "display_name": "Julia 1.0.3",
   "language": "julia",
   "name": "julia-1.0"
  },
  "language_info": {
   "file_extension": ".jl",
   "mimetype": "application/julia",
   "name": "julia",
   "version": "1.0.3"
  }
 },
 "nbformat": 4,
 "nbformat_minor": 2
}

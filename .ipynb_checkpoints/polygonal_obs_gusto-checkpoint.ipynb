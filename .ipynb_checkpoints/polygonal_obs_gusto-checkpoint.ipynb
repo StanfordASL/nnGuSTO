{
 "cells": [
  {
   "cell_type": "code",
   "execution_count": null,
   "metadata": {},
   "outputs": [],
   "source": [
    "# import Pkg; Pkg.add(\"PlotlyJS\")"
   ]
  },
  {
   "cell_type": "code",
   "execution_count": 25,
   "metadata": {
    "scrolled": false
   },
   "outputs": [],
   "source": [
    "include(\"astrobee_se3_script.jl\")\n",
    "using Plots\n"
   ]
  },
  {
   "cell_type": "code",
   "execution_count": 3,
   "metadata": {},
   "outputs": [
    {
     "data": {
      "text/plain": [
       "AstrobeeSE3(13, 6, Any[], Any[], Any[], 1.0e-5, 7.2, [0.1083 0.0 0.0; 0.0 0.1083 0.0; 0.0 0.0 0.1083], [9.23361 0.0 0.0; 0.0 9.23361 0.0; 0.0 0.0 9.23361], [100.0, 100.0, 100.0, 0.4, 0.4, 0.4, 100.0, 100.0, 100.0, 100.0, 0.785, 0.785, 0.785], [-100.0, -100.0, -100.0, -0.4, -0.4, -0.4, -100.0, -100.0, -100.0, -100.0, -0.785, -0.785, -0.785], [0.72, 0.72, 0.72, 0.0944617, 0.0944617, 0.0944617], [-0.72, -0.72, -0.72, -0.0944617, -0.0944617, -0.0944617], [-0.25, 0.4, 0.0, 0.0, 0.0, 0.0, 0.0, 0.0, 0.0, 1.0, 0.0, 0.0, 0.0], [0.7, -0.5, 0.0, 0.0, 0.0, 0.0, 0.0, 0.0, 0.0, 1.0, 0.0, 0.0, 0.0], 110.0, Any[Any[[0.4, -0.1, 0.0], 0.1]], Any[PolygonalObstacle([0.0, 0.2, 0.2], 0.05, 0.05, 0.05, Array{Int64,1}[[0, -1, 0], [1, 0, 0], [0, 1, 0], [-1, 0, 0], [0, 0, 1], [0, 0, -1]], Array{Float64,1}[[0.05, 0.15, 0.25], [0.05, 0.25, 0.25], [-0.05, 0.25, 0.25], [-0.05, 0.15, 0.25], [0.05, 0.15, 0.15], [0.05, 0.25, 0.15], [-0.05, 0.25, 0.15], [-0.05, 0.15, 0.15]])], 1000.0, 1.0, 1.0e9, 0.001, 0.01, 50.0, 2.0, 0.5, 5.0, 0.5)"
      ]
     },
     "execution_count": 3,
     "metadata": {},
     "output_type": "execute_result"
    }
   ],
   "source": [
    "model = AstrobeeSE3()"
   ]
  },
  {
   "cell_type": "code",
   "execution_count": 12,
   "metadata": {},
   "outputs": [
    {
     "name": "stdout",
     "output_type": "stream",
     "text": [
      "instantiated a floating joint\n"
     ]
    },
    {
     "ename": "UndefVarError",
     "evalue": "UndefVarError: TOS_SCP not defined",
     "output_type": "error",
     "traceback": [
      "UndefVarError: TOS_SCP not defined",
      "",
      "Stacktrace:",
      " [1] top-level scope at ./In[12]:65"
     ]
    }
   ],
   "source": []
  },
  {
   "cell_type": "code",
   "execution_count": null,
   "metadata": {},
   "outputs": [],
   "source": [
    "# verts = [(-1.0, 1.0), (-1.28, 0.6), (-0.2, -1.4), (0.2, -1.4), (1.28, 0.6), (1.0, 1.0), (-1.0, 1.0), (-0.2, -0.6), (0.0, -0.2), (-0.4, 0.6), (1.28, 0.6), (0.2, -1.4), (-0.2, -1.4), (0.6, 0.2), (-0.2, 0.2), (0.0, -0.2), (0.2, 0.2), (-0.2, -0.6)]\n",
    "# x = 0.1:0.2:0.9\n",
    "# y = 0.7 * rand(5) .+ 0.15\n",
    "# plot(x, y, line=(3, :dash, :lightblue), marker=(Shape(verts), 30, RGBA(0, 0, 0, 0.2)), bg=:pink, fg=:darkblue, xlim=(0, 1), ylim=(0, 1), leg=false)\n"
   ]
  },
  {
   "cell_type": "code",
   "execution_count": null,
   "metadata": {},
   "outputs": [],
   "source": [
    "# verts = [(0.0, 0.0, 0.0), (0.0, 1.0, 0.0), (1.0, 1.0, 0.0),(1.0, 0.0, 0.0),\n",
    "# (0.0, 0.0, 1.0), (0.0, 1.0, 1.0), (1.0, 1.0, 1.0),(1.0, 0.0, 1.0)]\n",
    "# x = 0.1:0.2:0.9\n",
    "# y = 0.7 * rand(5) .+ 0.15\n",
    "# plot(x, y, line=(3, :dash, :lightblue), marker=(Shape(verts), 30, RGBA(0, 0, 0, 0.2)), bg=:pink, fg=:darkblue, xlim=(0, 1), ylim=(0, 1), leg=false)"
   ]
  },
  {
   "cell_type": "code",
   "execution_count": null,
   "metadata": {},
   "outputs": [],
   "source": [
    "# using PlotlyJS\n",
    "\n",
    "# function mesh_box(l,w,h,x,y,z)\n",
    "#     PlotlyJS.mesh3d(\n",
    "#         x = [x, x+l, x,   x+l, x,   x+l, x,   x+l],\n",
    "#         y = [y, y,   y+w, y+w, y,   y,   y+w, y+w],\n",
    "#         z = [z, z,   z,   z,   z+h, z+h, z+h, z+h],\n",
    "#         i = [0, 0, 0, 0, 0, 0, 7, 7, 7, 7, 7, 7],\n",
    "#         j = [3, 3, 5, 5, 6, 6, 3, 3, 5, 5, 6, 6],\n",
    "#         k = [1, 2, 1, 4, 2, 4, 1, 2, 1, 4, 2, 4],\n",
    "#         color = \"rgb(200,100,100)\",\n",
    "#     )\n",
    "# end\n",
    "\n",
    "# PlotlyJS.plot(\n",
    "#     mesh_box(1,1,1,0,0,0)\n",
    "# )"
   ]
  },
  {
   "cell_type": "code",
   "execution_count": 16,
   "metadata": {},
   "outputs": [
    {
     "data": {
      "text/plain": [
       "solve_gusto (generic function with 2 methods)"
      ]
     },
     "execution_count": 16,
     "metadata": {},
     "output_type": "execute_result"
    }
   ],
   "source": [
    "function solve_gusto(model, N, MAX_ITERATIONS_NB, verbose = true)\n",
    "    \n",
    "    Xp,Up = initialize_trajectory(model, N)\n",
    "    X, U  = copy(Xp)  , copy(Up) \n",
    "\n",
    "    SCPproblem = GuSTOProblem(model, N, Xp, Up)\n",
    "\n",
    "    x_dim, u_dim = model.x_dim, model.u_dim\n",
    "\n",
    "    Delta0, omega0, omegamax, \n",
    "        epsilon, rho0, rho1, \n",
    "        beta_succ, beta_fail, gamma_fail, \n",
    "        convergence_threshold = get_initial_gusto_parameters(model)\n",
    "\n",
    "    Delta = Delta0\n",
    "    omega = omega0\n",
    "\n",
    "    X_all, U_all = [], []\n",
    "    push!(X_all, copy(X))\n",
    "    push!(U_all, copy(U))\n",
    "\n",
    "    B_success = false\n",
    "    it = 0\n",
    "\n",
    "    while it<MAX_ITERATIONS_NB && \n",
    "            !(it!=0 && it!=1 && it!=2 && it!=3 && B_success && \n",
    "                convergence_metric(model,X,U,Xp,Up)<convergence_threshold) &&\n",
    "            omega<omegamax\n",
    "        if verbose\n",
    "            println(\"-----------\")\n",
    "            println(\"Iteration $it\")\n",
    "            println(\"metric=$(convergence_metric(model,X,U,Xp,Up))\")\n",
    "            println(\"-----------\")\n",
    "        end\n",
    "\n",
    "        Xp = copy(X)\n",
    "        Up = copy(U)\n",
    "\n",
    "        model.f, model.A, model.B = compute_dynamics(model, Xp, Up)\n",
    "\n",
    "        reset_problem(SCPproblem, model)\n",
    "        set_parameters(SCPproblem, model, Xp, Up, omega, Delta)\n",
    "        define_cost(SCPproblem, model)\n",
    "        define_constraints(SCPproblem, model)\n",
    "\n",
    "        JuMP.optimize!(SCPproblem.solver_model)    \n",
    "        X_sol = JuMP.value.(SCPproblem.X)\n",
    "        U_sol = JuMP.value.(SCPproblem.U)\n",
    "\n",
    "        # -----------\n",
    "        # GuSTO Logic\n",
    "        if it > 3\n",
    "            if is_in_trust_region(model, X_sol, U_sol, Xp, Up, Delta)\n",
    "                rho = accuracy_ratio(SCPproblem, model, X_sol, U_sol, Xp, Up)\n",
    "\n",
    "                if rho > rho1\n",
    "                    if verbose\n",
    "                        println(\"Reject solution.\")\n",
    "                    end\n",
    "                    Delta = beta_fail * Delta\n",
    "                    omega     = omega\n",
    "                    B_success = false\n",
    "\n",
    "                else\n",
    "                    if verbose\n",
    "                        println(\"Accept solution.\")\n",
    "                    end\n",
    "                    X = copy(X_sol)\n",
    "                    U = copy(U_sol)\n",
    "                    B_success = true\n",
    "                    if rho < rho0\n",
    "                        Delta = min(beta_succ*Delta, Delta0)\n",
    "                    else\n",
    "                        Delta = Delta\n",
    "                    end\n",
    "                    if satisfies_state_inequality_constraints(SCPproblem, model, X_sol, U_sol, Xp, Up, Delta)\n",
    "                        omega = omega0\n",
    "                    else\n",
    "                        if verbose\n",
    "                            println(\"Solution does not satisfy state constraints, increasing omega.\")\n",
    "                        end\n",
    "                        omega = gamma_fail * omega\n",
    "                        B_success = false\n",
    "                    end\n",
    "                end\n",
    "            else\n",
    "                if verbose\n",
    "                    println(\"Reject solution (Outside trust region)\")\n",
    "                end\n",
    "                Delta = Delta\n",
    "                omega     = gamma_fail * omega\n",
    "                B_success = false\n",
    "            end\n",
    "    #         if convergence_metric(model,X,U,Xp,Up) <0.6\n",
    "    #             println(\"Convergence metric very small. Decreasing Delta.\")\n",
    "    #             Delta = Delta0./(2^it)\n",
    "    #         end\n",
    "\n",
    "        else # always accept first solution\n",
    "            X = copy(X_sol)\n",
    "            U = copy(U_sol)\n",
    "        end\n",
    "\n",
    "\n",
    "        # -----------\n",
    "\n",
    "        push!(X_all, copy(X))\n",
    "        push!(U_all, copy(U))\n",
    "\n",
    "\n",
    "        it += 1\n",
    "\n",
    "        diff_with_prev = norm(copy(X) - copy(Xp), Inf)\n",
    "        if verbose\n",
    "            println(\"x(k) - x(k-1) = $diff_with_prev\")\n",
    "            println(\"Parameters:\")\n",
    "            println(\"omega=$omega\")\n",
    "            println(\"delta=$Delta\")\n",
    "        end\n",
    "    end\n",
    "    curr_conv_metric = convergence_metric(model,X,U,Xp,Up)\n",
    "    if (B_success && \n",
    "                curr_conv_metric<convergence_threshold)\n",
    "        if verbose\n",
    "            println(\"Converged\")\n",
    "        end\n",
    "        isConverged = true\n",
    "    else\n",
    "        if verbose\n",
    "            println(\"Not converged. Metric =$curr_conv_metric\")\n",
    "        end\n",
    "        isConverged = false\n",
    "    end\n",
    "    return isConverged, X_all, U_all\n",
    "end"
   ]
  },
  {
   "cell_type": "code",
   "execution_count": 17,
   "metadata": {},
   "outputs": [],
   "source": [
    "# function plot_env_solution(model, X_all)\n",
    "#     N = length(X_all)\n",
    "\n",
    "#     idx = [1,2]\n",
    "#     local fig\n",
    "#     fig = plot(framestyle = :box)\n",
    "#     for iter = 1:length(X_all)\n",
    "#         X = X_all[iter]\n",
    "#         if iter ==1 \n",
    "#             color = :darkblue\n",
    "#             plot!(fig, X[1,:], X[2,:], line=(5, :dash); c=color, lab = \"Initial guess\")\n",
    "#         elseif iter == length(X_all)\n",
    "#             color = :green\n",
    "#             plot!(fig, X[1,:], X[2,:], line=(5, :dash), c=color, lab = \"Final solution\")\n",
    "#         else\n",
    "#             color = :blue\n",
    "#             plot!(fig, X[1,:], X[2,:]; c=color, lab = \"\")\n",
    "#         end\n",
    "        \n",
    "#     end\n",
    "\n",
    "#     for obs_i = 1:length(model.obstacles)\n",
    "#         p_obs, obs_radius = model.obstacles[obs_i][1], model.obstacles[obs_i][2]\n",
    "#         plot_circle(p_obs[idx], obs_radius,lab =\"\"; color=:red, fig=fig)\n",
    "#     end\n",
    "#     xlims!((model.x_min[1],model.x_max[1]))\n",
    "#     ylims!((model.x_min[2],model.x_max[2]))\n",
    "#     plot!(leg = true)\n",
    "#     return fig\n",
    "# end"
   ]
  },
  {
   "cell_type": "code",
   "execution_count": 18,
   "metadata": {},
   "outputs": [
    {
     "data": {
      "text/plain": [
       "plot_env_and_trajs (generic function with 2 methods)"
      ]
     },
     "execution_count": 18,
     "metadata": {},
     "output_type": "execute_result"
    }
   ],
   "source": [
    "function plot_env_and_trajs(model, X_all, labls = [\"\"])\n",
    "    N = length(X_all)\n",
    "\n",
    "    idx = [1,2]\n",
    "    local fig\n",
    "    fig = plot(framestyle = :box)\n",
    "    for iter = 1:length(X_all)\n",
    "        X = X_all[iter]\n",
    "        plot!(fig, X[1,:], X[2,:];line=(5, :dash), lab = labls[iter])\n",
    "    end\n",
    "\n",
    "    for obs_i = 1:length(model.obstacles)\n",
    "        p_obs, obs_radius = model.obstacles[obs_i][1], model.obstacles[obs_i][2]\n",
    "        plot_circle(p_obs[idx], obs_radius,lab =\"\"; color=:red, fig=fig)\n",
    "    end\n",
    "    \n",
    "    for obs_i = 1:length(model.poly_obstacles)\n",
    "        plot_polyObs_corners_2d(fig, model.poly_obstacles[obs_i]; dims=idx)\n",
    "    end\n",
    "    \n",
    "    xlims!((model.x_min[1],model.x_max[1]))\n",
    "    ylims!((model.x_min[2],model.x_max[2]))\n",
    "    plot!(leg = true)\n",
    "    return fig\n",
    "end"
   ]
  },
  {
   "cell_type": "code",
   "execution_count": 19,
   "metadata": {},
   "outputs": [
    {
     "data": {
      "text/plain": [
       "plot_solution (generic function with 1 method)"
      ]
     },
     "execution_count": 19,
     "metadata": {},
     "output_type": "execute_result"
    }
   ],
   "source": [
    "function plot_solution(model, X_all)\n",
    "    N = length(X_all)\n",
    "\n",
    "    idx = [2,3]\n",
    "    local fig\n",
    "    fig = plot()\n",
    "    for iter = 1:length(X_all)\n",
    "        X = X_all[iter]\n",
    "        plot!(fig, X[1,:], X[2,:]; c=:blue)\n",
    "    end\n",
    "\n",
    "    for obs_i = 1:length(model.obstacles)\n",
    "        p_obs, obs_radius = model.obstacles[obs_i][1], model.obstacles[obs_i][2]\n",
    "        plot_circle(p_obs[idx], obs_radius; color=:red, fig=fig)\n",
    "    end\n",
    "    \n",
    "    for obs_i = 1:length(model.poly_obstacles)\n",
    "        plot_polyObs_corners_2d(fig, model.poly_obstacles[obs_i]; dims=idx)\n",
    "    end\n",
    "    \n",
    "    \n",
    "\n",
    "    return fig\n",
    "end"
   ]
  },
  {
   "cell_type": "markdown",
   "metadata": {},
   "source": [
    "# Simple Case"
   ]
  },
  {
   "cell_type": "code",
   "execution_count": 20,
   "metadata": {
    "scrolled": false
   },
   "outputs": [
    {
     "name": "stdout",
     "output_type": "stream",
     "text": [
      "model.obstacles = Any[]\n",
      "model.poly_obstacles = Any[]\n",
      "-----------\n",
      "Iteration 0\n",
      "metric=0.0\n",
      "-----------\n",
      "\n",
      "******************************************************************************\n",
      "This program contains Ipopt, a library for large-scale nonlinear optimization.\n",
      " Ipopt is released as open source code under the Eclipse Public License (EPL).\n",
      "         For more information visit http://projects.coin-or.org/Ipopt\n",
      "******************************************************************************\n",
      "\n",
      "x(k) - x(k-1) = 0.6231788894384609\n",
      "Parameters:\n",
      "omega=1.0\n",
      "delta=1000.0\n",
      "-----------\n",
      "Iteration 1\n",
      "metric=12.640211033869662\n",
      "-----------\n",
      "x(k) - x(k-1) = 0.03277069492008122\n",
      "Parameters:\n",
      "omega=1.0\n",
      "delta=1000.0\n",
      "-----------\n",
      "Iteration 2\n",
      "metric=0.49194428137438256\n",
      "-----------\n",
      "x(k) - x(k-1) = 0.015899258359204693\n",
      "Parameters:\n",
      "omega=1.0\n",
      "delta=1000.0\n",
      "-----------\n",
      "Iteration 3\n",
      "metric=0.2634712465362787\n",
      "-----------\n",
      "x(k) - x(k-1) = 0.007932025083340233\n",
      "Parameters:\n",
      "omega=1.0\n",
      "delta=1000.0\n",
      "-----------\n",
      "Iteration 4\n",
      "metric=0.1406480797583645\n",
      "-----------\n",
      "Accept solution.\n",
      "x(k) - x(k-1) = 5.2532457763043716e-5\n",
      "Parameters:\n",
      "omega=1.0\n",
      "delta=1000.0\n",
      "Converged\n"
     ]
    },
    {
     "data": {
      "text/plain": [
       "(true, Any[[1.0 1.12245 … 6.87755 7.0; 7.0 6.87755 … 1.12245 1.0; … ; 0.0 0.0 … 0.0 0.0; 0.0 0.0 … 0.0 0.0], [1.0 1.00536 … 6.98265 6.99902; 7.0 6.99464 … 1.01735 1.00098; … ; -8.0295e-35 -1.39694e-10 … 4.65108e-10 1.83478e-11; -8.52183e-35 -7.1806e-10 … 9.88625e-10 4.57346e-11], [1.0 1.00536 … 6.98266 6.99902; 7.0 6.99464 … 1.01734 1.00098; … ; -5.45413e-33 7.76645e-10 … 7.4926e-11 3.30294e-12; 0.0 1.16069e-9 … 1.19033e-9 5.03215e-11], [1.0 1.00536 … 6.98266 6.99902; 7.0 6.99464 … 1.01734 1.00098; … ; 0.0 1.13236e-9 … -1.00356e-9 -4.63952e-11; 1.30878e-33 1.05172e-9 … 5.01476e-10 2.21064e-11], [1.0 1.00536 … 6.98266 6.99902; 7.0 6.99464 … 1.01734 1.00098; … ; -3.3612e-34 -1.63073e-9 … -1.83993e-10 -8.11092e-12; -2.06815e-35 -4.58925e-10 … -7.51236e-10 -3.31165e-11], [1.0 1.00536 … 6.98265 6.99902; 7.0 6.99464 … 1.01735 1.00098; … ; -4.44889e-34 -1.44621e-9 … 5.08746e-10 2.2429e-11; 0.0 -1.41652e-9 … -2.29481e-9 -9.90061e-11]], Any[[0.0 0.0 … 0.0 0.0; 0.0 0.0 … 0.0 0.0; … ; 0.0 0.0 … 0.0 0.0; 0.0 0.0 … 0.0 0.0], [0.0103548 0.0202881 … -0.0283654 -0.0201747; -0.0103544 -0.0202872 … 0.0283664 0.0201756; … ; -4.41893e-12 -9.05953e-12 … -3.26172e-11 -2.15529e-11; -2.4445e-11 -4.48373e-11 … -4.98539e-11 -4.54876e-11], [0.0103549 0.0202881 … -0.0283654 -0.0201747; -0.0103544 -0.0202872 … 0.0283664 0.0201756; … ; 2.47381e-11 5.01968e-11 … -7.07723e-12 -3.45529e-12; 3.94335e-11 7.25558e-11 … -8.76341e-11 -5.49969e-11], [0.0103549 0.0202881 … -0.0283654 -0.0201747; -0.0103544 -0.0202872 … 0.0283664 0.0201756; … ; 3.86491e-11 7.06075e-11 … 5.1774e-11 4.61763e-11; 3.51086e-11 6.63675e-11 … -2.95019e-11 -2.31261e-11], [0.0103549 0.0202881 … -0.0283654 -0.0201747; -0.0103544 -0.0202872 … 0.0283664 0.0201756; … ; -5.4205e-11 -1.03137e-10 … 5.49336e-13 8.48504e-12; -1.46835e-11 -2.95961e-11 … 5.02181e-11 3.4644e-11], [0.0103548 0.0202881 … -0.0283654 -0.0201747; -0.0103544 -0.0202872 … 0.0283664 0.0201756; … ; -4.69552e-11 -9.25828e-11 … -4.21601e-11 -2.34612e-11; -4.72835e-11 -8.93904e-11 … 1.35586e-10 1.05932e-10]])"
      ]
     },
     "execution_count": 20,
     "metadata": {},
     "output_type": "execute_result"
    }
   ],
   "source": [
    "include(\"astrobee_se3_script.jl\")\n",
    "\n",
    "N = 50\n",
    "MAX_ITERATIONS_NB = 100\n",
    "\n",
    "model = AstrobeeSE3()\n",
    "\n",
    "# Set up environment\n",
    "model.x_max[1:3] = [10.0; 10.0; 1.0]\n",
    "model.x_min[1:3] = [0.0; 0.0; 0.0]\n",
    "\n",
    "obstacles = []\n",
    "# obs = [[0.0,0.0,0.0], 6.0]\n",
    "# push!(obstacles, obs)\n",
    "# obs = [[5.0,5.0,0.0], 1.3]\n",
    "# push!(obstacles, obs)\n",
    "# obs = [[3.0,5.0,0.0], 1.3]\n",
    "# push!(obstacles, obs)\n",
    "# obs = [[5.0,3.0,0.0], 1.3]\n",
    "# push!(obstacles, obs)\n",
    "model.obstacles = obstacles\n",
    "\n",
    "poly_obstacles = []\n",
    "# obs = PolygonalObstacle([2.5,2.5,0], [5.0, 5.0, 2.0])\n",
    "# push!(poly_obstacles, obs)\n",
    "model.poly_obstacles = poly_obstacles\n",
    "\n",
    "model.tf_guess = 110.\n",
    "model.convergence_threshold = 0.5\n",
    "\n",
    "model.x_init = [1.0;7.0;0.5;  0;0;0;  0.;0.;0.; 1.;  0;0;0]\n",
    "model.x_final = [7.0 ;1.0;0.5;  0;0;0;  0.;0.;1.; 0.;  0;0;0]\n",
    "\n",
    "\n",
    "@show(model.obstacles)\n",
    "@show(model.poly_obstacles)\n",
    "\n",
    "# plot_env_and_trajs(model, [], [])\n",
    "isConverged, X_all, U_all = solve_gusto(model, N, MAX_ITERATIONS_NB, true)\n",
    "# @show size(X_all)\n",
    "# @show size(U_all)"
   ]
  },
  {
   "cell_type": "code",
   "execution_count": 23,
   "metadata": {},
   "outputs": [
    {
     "data": {
      "text/plain": [
       "13×50 Array{Float64,2}:\n",
       "  1.0           1.00536       1.02304      …   6.98265       6.99902    \n",
       "  7.0           6.99464       6.97696          1.01735       1.00098    \n",
       "  0.5           0.5           0.5              0.5           0.5        \n",
       "  0.0           0.00477711    0.0109713        0.00728992    0.00099962 \n",
       "  0.0          -0.00477689   -0.0109709       -0.0072902    -0.00099962 \n",
       "  0.0          -3.0511e-13   -7.21162e-13  …   6.96889e-12   6.93487e-12\n",
       "  0.0           7.94986e-10   3.35645e-9       5.70801e-10  -2.75326e-13\n",
       "  0.0          -8.11646e-10  -3.48468e-9      -2.58537e-9   -9.4922e-12 \n",
       " -2.30572e-29   0.00141222    0.0060673        1.00002       1.00004    \n",
       "  1.0           0.999998      0.999976         0.00389949    5.7452e-6  \n",
       "  6.47417e-30  -0.00251633   -0.0057783    …  -0.00346889   -0.000149577\n",
       " -4.44889e-34  -1.44621e-9   -3.31644e-9       5.08746e-10   2.2429e-11 \n",
       "  0.0          -1.41652e-9   -3.14762e-9      -2.29481e-9   -9.90061e-11"
      ]
     },
     "execution_count": 23,
     "metadata": {},
     "output_type": "execute_result"
    }
   ],
   "source": [
    "X_soln = X_all[end]"
   ]
  },
  {
   "cell_type": "code",
   "execution_count": 27,
   "metadata": {},
   "outputs": [
    {
     "name": "stderr",
     "output_type": "stream",
     "text": [
      "┌ Info: Recompiling stale cache file /home/freeflyerhub/.julia/compiled/v1.1/Interact/XmYW4.ji for Interact [c601a237-2ae4-5e1e-952c-7a85b0c7eef1]\n",
      "└ @ Base loading.jl:1184\n"
     ]
    },
    {
     "name": "stdout",
     "output_type": "stream",
     "text": [
      "instantiated a floating joint\n"
     ]
    },
    {
     "name": "stderr",
     "output_type": "stream",
     "text": [
      "┌ Info: Serving MeshCat visualizer at http://127.0.0.1:8700\n",
      "└ @ MeshCat /home/freeflyerhub/.julia/packages/MeshCat/J3ExE/src/servers.jl:24\n"
     ]
    },
    {
     "data": {
      "text/plain": [
       "Process(`\u001b[4mxdg-open\u001b[24m \u001b[4mhttp://127.0.0.1:8700\u001b[24m`, ProcessExited(0))"
      ]
     },
     "execution_count": 27,
     "metadata": {},
     "output_type": "execute_result"
    }
   ],
   "source": [
    "# using BulletCollision\n",
    "\n",
    "using Plots\n",
    "# using RigidBodySim, RigidBodyDynamics\n",
    "using MeshCat, MeshCatMechanisms\n",
    "using CoordinateTransformations\n",
    "using Interact, Reactive\n",
    "# using MAT, FileIO, MeshIO\n",
    "using MechanismGeometries\n",
    "# using ForwardDiff\n",
    "import GeometryTypes: HyperRectangle, HyperSphere, HomogenousMesh\n",
    "# import ColorTypes: RGB, RGBA\n",
    "\n",
    "# using StaticArrays, DataStructures\n",
    "# using JuMP, Convex\n",
    "# using Ipopt, Mosek, SCS\n",
    "# using MosekTools\n",
    "# using Gurobi\n",
    "# using MathProgBase, MathOptInterface\n",
    "# using NLsolve, DifferentialEquations\n",
    "\n",
    "# using MAT\n",
    "using GeometryTypes\n",
    "using FillArrays\n",
    "using LinearAlgebra\n",
    "\n",
    "using AstrobeeRobot\n",
    "\n",
    "N = 50\n",
    "# Animate Astrobee trajectory\n",
    "vis = Visualizer()\n",
    "delete!(vis)\n",
    "\n",
    "obstacles = []\n",
    "\n",
    "push!(obstacles,\n",
    "  HyperSphere(Point3f0([0.4,-0.10,0.]), Float32(0.1)))\n",
    "\n",
    "\n",
    "# obstacles = []\n",
    "# obs = [[0.4,-0.10,0.], 0.1]\n",
    "# push!(obstacles, obs)\n",
    "\n",
    "vis[:obstacle]\n",
    "for (idx,ws) in enumerate(obstacles)\n",
    "    setobject!(vis[:workspace][Symbol(string(\"ws\",idx))],\n",
    "        Object(ws,MeshBasicMaterial(color=RGBA(0.95,0.26,0.26,0.3))))\n",
    "end\n",
    "\n",
    "\n",
    "# vis[:goal]\n",
    "# for (idx,obs) in enumerate(env.keepout_zones)\n",
    "#     setobject!(vis[:goal][:goal], \n",
    "#         Object(HyperSphere(Point3f0(x_goal[1:3]), 0.1f0),\n",
    "#             MeshBasicMaterial(color=RGBA(0,1.0,0.,0.3))))\n",
    "# end\n",
    "\n",
    "# vis[:workspace]\n",
    "# for (idx,ws) in enumerate(env.keepin_zones)\n",
    "#     if idx in (5,8)\n",
    "#         setobject!(vis[:workspace][Symbol(string(\"ws\",idx))],\n",
    "#             Object(ws, MeshBasicMaterial(color=RGBA(0.95,0.93,0.26,0.3), depthWrite=false)))\n",
    "#     else\n",
    "#         setobject!(vis[:workspace][Symbol(string(\"ws\",idx))],\n",
    "#             Object(ws, MeshBasicMaterial(color=RGBA(0.95,0.93,0.26,0.3))))\n",
    "#     end\n",
    "# end\n",
    "\n",
    "# vis[:obstacle]\n",
    "# for (idx,ws) in enumerate(env.obstacle_set)\n",
    "#     setobject!(vis[:workspace][Symbol(string(\"ws\",idx+length(env.keepin_zones)))],\n",
    "#         Object(ws,MeshBasicMaterial(color=RGBA(0.95,0.26,0.26,0.3))))\n",
    "# end\n",
    "\n",
    "ab = Astrobee()\n",
    "mvis = MechanismVisualizer(\n",
    "    ab.mechanism,\n",
    "    URDFVisuals(AstrobeeRobot.urdfpath(), package_path=[dirname(dirname(AstrobeeRobot.urdfpath()))]),\n",
    "    vis);\n",
    "\n",
    "speed_factor = 3\n",
    "\n",
    "Qs = Vector{Vector{Float64}}()\n",
    "for k in 1:speed_factor:N\n",
    "#     q = [quat_inv(TOS_SCP.SCPS.traj.X[7:10,k]); TOS_SCP.SCPS.traj.X[1:3,k]]\n",
    "    q = [quat_inv(X_soln[7:10,k]); X_soln[1:3,k]]\n",
    "    push!(Qs,q)\n",
    "end\n",
    "\n",
    "trans = Translation(14., -1., 7.)\n",
    "rot = LinearMap(RotZ(-0.6)) ∘ LinearMap(RotY(-0.2))\n",
    "settransform!(vis[\"/Cameras/default\"], trans ∘ rot)\n",
    "setprop!(vis[\"/Cameras/default/rotated/<object>\"], \"zoom\", 1.9)\n",
    "setprop!(vis[\"/Cameras/default/rotated/<object>\"], \"near\", 0.05)\n",
    "\n",
    "sleep(3)\n",
    "setanimation!(mvis,1:length(Qs),Qs)\n",
    "\n",
    "plot_in_cell = false\n",
    "plot_in_cell ? IJuliaCell(vis) : open(vis)"
   ]
  },
  {
   "cell_type": "code",
   "execution_count": null,
   "metadata": {},
   "outputs": [],
   "source": []
  },
  {
   "cell_type": "code",
   "execution_count": null,
   "metadata": {},
   "outputs": [],
   "source": []
  },
  {
   "cell_type": "code",
   "execution_count": null,
   "metadata": {},
   "outputs": [],
   "source": []
  },
  {
   "cell_type": "code",
   "execution_count": null,
   "metadata": {
    "scrolled": false
   },
   "outputs": [],
   "source": [
    "plot_solution(model, X_all[end-1:end,:])"
   ]
  },
  {
   "cell_type": "code",
   "execution_count": null,
   "metadata": {},
   "outputs": [],
   "source": [
    "include(\"astrobee_se3_script.jl\")\n",
    "x = [0;0.2;0.2]\n",
    "obs = model.poly_obstacles[1]\n",
    "plot_distances(x, obs)"
   ]
  },
  {
   "cell_type": "code",
   "execution_count": null,
   "metadata": {},
   "outputs": [],
   "source": []
  }
 ],
 "metadata": {
  "kernelspec": {
   "display_name": "Julia 1.1.0",
   "language": "julia",
   "name": "julia-1.1"
  },
  "language_info": {
   "file_extension": ".jl",
   "mimetype": "application/julia",
   "name": "julia",
   "version": "1.1.0"
  }
 },
 "nbformat": 4,
 "nbformat_minor": 2
}

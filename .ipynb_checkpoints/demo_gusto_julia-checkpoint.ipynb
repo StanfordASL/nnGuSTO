{
 "cells": [
  {
   "cell_type": "code",
   "execution_count": null,
   "metadata": {
    "scrolled": false
   },
   "outputs": [],
   "source": [
    "include(\"astrobee_se3_script.jl\")\n",
    "using Plots\n"
   ]
  },
  {
   "cell_type": "markdown",
   "metadata": {},
   "source": [
    "# Helper functions"
   ]
  },
  {
   "cell_type": "markdown",
   "metadata": {},
   "source": [
    "## Main GuSTO function"
   ]
  },
  {
   "cell_type": "code",
   "execution_count": 2,
   "metadata": {},
   "outputs": [
    {
     "data": {
      "text/plain": [
       "solve_gusto (generic function with 4 methods)"
      ]
     },
     "execution_count": 2,
     "metadata": {},
     "output_type": "execute_result"
    }
   ],
   "source": [
    "function solve_gusto(model, N, MAX_ITERATIONS_NB, verbose = true, Xp = [], Up = [])\n",
    "    \n",
    "    if (Xp == [] && Up == [])\n",
    "        Xp,Up = initialize_trajectory(model, N)\n",
    "    elseif Up == []\n",
    "        println(\"GuSTO X has been warm-started.\")\n",
    "        Up = zeros(model.u_dim, N-1)\n",
    "    else\n",
    "        println(\"GuSTO has been warm-started.\")\n",
    "    end\n",
    "    X, U  = copy(Xp)  , copy(Up) \n",
    "\n",
    "    SCPproblem = GuSTOProblem(model, N, Xp, Up)\n",
    "\n",
    "    x_dim, u_dim = model.x_dim, model.u_dim\n",
    "\n",
    "    Delta0, omega0, omegamax, \n",
    "        epsilon, rho0, rho1, \n",
    "        beta_succ, beta_fail, gamma_fail, \n",
    "        convergence_threshold = get_initial_gusto_parameters(model)\n",
    "\n",
    "    Delta = Delta0\n",
    "    omega = omega0\n",
    "\n",
    "    X_all, U_all = [], []\n",
    "    push!(X_all, copy(X))\n",
    "    push!(U_all, copy(U))\n",
    "\n",
    "    B_success = false\n",
    "    it = 0\n",
    "\n",
    "    while it<MAX_ITERATIONS_NB && \n",
    "            !(it!=0 && it!=1 && it!=2 && it!=3 && B_success && \n",
    "                convergence_metric(model,X,U,Xp,Up)<convergence_threshold) &&\n",
    "            omega<omegamax\n",
    "        if verbose\n",
    "            println(\"-----------\")\n",
    "            println(\"Iteration $it\")\n",
    "            println(\"metric=$(convergence_metric(model,X,U,Xp,Up))\")\n",
    "            println(\"-----------\")\n",
    "        end\n",
    "\n",
    "        Xp = copy(X)\n",
    "        Up = copy(U)\n",
    "\n",
    "        model.f, model.A, model.B = compute_dynamics(model, Xp, Up)\n",
    "\n",
    "        reset_problem(SCPproblem, model)\n",
    "        set_parameters(SCPproblem, model, Xp, Up, omega, Delta)\n",
    "        define_cost(SCPproblem, model)\n",
    "        define_constraints(SCPproblem, model)\n",
    "\n",
    "        JuMP.optimize!(SCPproblem.solver_model)    \n",
    "\n",
    "        # get solution\n",
    "        X_sol = JuMP.value.(SCPproblem.X)\n",
    "        U_sol = JuMP.value.(SCPproblem.U)\n",
    "\n",
    "        # -----------\n",
    "        # GuSTO Logic\n",
    "        if it > 3\n",
    "            if is_in_trust_region(model, X_sol, U_sol, Xp, Up, Delta)\n",
    "                rho = accuracy_ratio(SCPproblem, model, X_sol, U_sol, Xp, Up)\n",
    "\n",
    "                if rho > rho1\n",
    "                    if verbose\n",
    "                        println(\"Reject solution.\")\n",
    "                    end\n",
    "                    Delta = beta_fail * Delta\n",
    "                    omega     = omega\n",
    "                    B_success = false\n",
    "\n",
    "                else\n",
    "                    if verbose\n",
    "                        println(\"Accept solution.\")\n",
    "                    end\n",
    "                    X = copy(X_sol)\n",
    "                    U = copy(U_sol)\n",
    "                    B_success = true\n",
    "                    if rho < rho0\n",
    "                        Delta = min(beta_succ*Delta, Delta0)\n",
    "                    else\n",
    "                        Delta = Delta\n",
    "                    end\n",
    "                    if satisfies_state_inequality_constraints(SCPproblem, model, X_sol, U_sol, Xp, Up, Delta)\n",
    "                        omega = omega0\n",
    "                    else\n",
    "                        if verbose\n",
    "                            println(\"Solution does not satisfy state constraints, increasing omega.\")\n",
    "                        end\n",
    "                        omega = gamma_fail * omega\n",
    "                        B_success = false\n",
    "                    end\n",
    "                end\n",
    "            else\n",
    "                if verbose\n",
    "                    println(\"Reject solution (Outside trust region)\")\n",
    "                end\n",
    "                Delta = Delta\n",
    "                omega     = gamma_fail * omega\n",
    "                B_success = false\n",
    "            end\n",
    "\n",
    "        else # always accept first solution\n",
    "            X = copy(X_sol)\n",
    "            U = copy(U_sol)\n",
    "        end\n",
    "\n",
    "\n",
    "        # -----------\n",
    "\n",
    "        push!(X_all, copy(X))\n",
    "        push!(U_all, copy(U))\n",
    "\n",
    "\n",
    "        it += 1\n",
    "\n",
    "        diff_with_prev = norm(copy(X) - copy(Xp), Inf)\n",
    "        if verbose\n",
    "            println(\"x(k) - x(k-1) = $diff_with_prev\")\n",
    "            println(\"Parameters:\")\n",
    "            println(\"omega=$omega\")\n",
    "            println(\"delta=$Delta\")\n",
    "        end\n",
    "    end\n",
    "    curr_conv_metric = convergence_metric(model,X,U,Xp,Up)\n",
    "    if (B_success && \n",
    "                curr_conv_metric<convergence_threshold)\n",
    "        if verbose\n",
    "            println(\"Converged\")\n",
    "        end\n",
    "        isConverged = true\n",
    "    else\n",
    "        if verbose\n",
    "            println(\"Not converged. Metric =$curr_conv_metric\")\n",
    "        end\n",
    "        isConverged = false\n",
    "    end\n",
    "    return isConverged, it, X_all, U_all\n",
    "end"
   ]
  },
  {
   "cell_type": "markdown",
   "metadata": {},
   "source": [
    "## Function to check if point is inside any obstacle"
   ]
  },
  {
   "cell_type": "code",
   "execution_count": 3,
   "metadata": {},
   "outputs": [
    {
     "data": {
      "text/plain": [
       "isInsideObstacle (generic function with 1 method)"
      ]
     },
     "execution_count": 3,
     "metadata": {},
     "output_type": "execute_result"
    }
   ],
   "source": [
    "function isInsideObstacle(x, model)\n",
    "    isInside = false\n",
    "    for obs in model.obstacles\n",
    "        center = obs[1]\n",
    "        radius = obs[2]\n",
    "        if norm(x[1:3] - center) < radius\n",
    "            isInside = true\n",
    "            return isInside\n",
    "        end\n",
    "    end\n",
    "    for obs in model.poly_obstacles\n",
    "        center = obs.c\n",
    "        dx = obs.dx\n",
    "        dy = obs.dy\n",
    "        dz = obs.dz\n",
    "        x_max = center[1]+dx\n",
    "        y_max = center[2]+dy\n",
    "        z_max = center[3]+dz\n",
    "        x_min = center[1]-dx\n",
    "        y_min = center[2]-dy\n",
    "        z_min = center[3]-dz\n",
    "        if (x[1]<= x_max && x[1] >= x_min && \n",
    "            x[2]<= y_max && x[2] >= y_min &&\n",
    "            x[3]<= z_max && x[3] >= z_min)\n",
    "            isInside = true\n",
    "            return isInside\n",
    "        end\n",
    "    end\n",
    "    return isInside\n",
    "end"
   ]
  },
  {
   "cell_type": "markdown",
   "metadata": {},
   "source": [
    "## This function calls the main solve_gusto() function but in addition also does some sanity checks\n",
    "### - Checks if the initial and final points passed in valid according to the model (i.e. outside all obstacles)"
   ]
  },
  {
   "cell_type": "code",
   "execution_count": 4,
   "metadata": {},
   "outputs": [
    {
     "data": {
      "text/plain": [
       "findTrueGuSTOSolution (generic function with 5 methods)"
      ]
     },
     "execution_count": 4,
     "metadata": {},
     "output_type": "execute_result"
    }
   ],
   "source": [
    "function findTrueGuSTOSolution(x_init, x_final, model = :None, verbose = false, Xinit = [], Uinit = [])\n",
    "    N = 50\n",
    "    MAX_ITERATIONS_NB = 100\n",
    "    \n",
    "    if model == :None\n",
    "        println(\"No model supplied. Using spheres model.\")\n",
    "        model = getModelWithCornerSpheres()\n",
    "    end\n",
    "    \n",
    "    isConverged = false\n",
    "    X_all = []\n",
    "    U_all = []\n",
    "    numIter = 0\n",
    "\n",
    "    problemNumber = 0\n",
    "\n",
    "    train_input_collected = Array{Float64}(undef,0,26)\n",
    "    train_output_collected = Array{Float64}(undef,0,944)\n",
    "\n",
    "    if isInsideObstacle(x_init, model)\n",
    "        println(\"x_init is inside an obstacle. Not valid.\")\n",
    "        return model, isConverged, X_all, U_all\n",
    "    end\n",
    "    if isInsideObstacle(x_final, model)\n",
    "        println(\"x_final is inside an obstacle. Not valid.\")\n",
    "        return model, isConverged, X_all, U_all\n",
    "    end\n",
    "    if norm(x_final[1:3] - x_init[1:3])<1.0\n",
    "        println(\"x_init and x_final too close. Not valid.\")\n",
    "        return model, isConverged, X_all, U_all\n",
    "    end\n",
    "\n",
    "\n",
    "    model.x_init = x_init\n",
    "    model.x_final = x_final\n",
    "    \n",
    "    println(\"Starting to solve GuSTO\")\n",
    "    try\n",
    "        isConverged, numIter, X_all, U_all = solve_gusto(model, N, MAX_ITERATIONS_NB, verbose, Xinit, Uinit)\n",
    "    catch e\n",
    "        isConverged = false\n",
    "        println(\"$e\")\n",
    "    end\n",
    "    println(\"Converged: $isConverged\")\n",
    "\n",
    "    return model, isConverged, numIter, X_all, U_all\n",
    "end\n",
    "\n"
   ]
  },
  {
   "cell_type": "markdown",
   "metadata": {},
   "source": [
    "## Get model on which data was collected and training done"
   ]
  },
  {
   "cell_type": "code",
   "execution_count": 5,
   "metadata": {},
   "outputs": [
    {
     "data": {
      "text/plain": [
       "getModelWithTwoPolyObsOneAtCorner (generic function with 1 method)"
      ]
     },
     "execution_count": 5,
     "metadata": {},
     "output_type": "execute_result"
    }
   ],
   "source": [
    "function getModelWithTwoPolyObsOneAtCorner()\n",
    "    N = 50\n",
    "    MAX_ITERATIONS_NB = 100\n",
    "\n",
    "    model = AstrobeeSE3()\n",
    "\n",
    "    # Set up environment\n",
    "    model.x_max[1:3] = [10.0; 10.0; 1.0]\n",
    "    model.x_min[1:3] = [0.0; 0.0; 0.0]\n",
    "\n",
    "    obstacles = []\n",
    "    # obs = [[0.0,0.0,0.0], 6.0]\n",
    "    # push!(obstacles, obs)\n",
    "    model.obstacles = obstacles\n",
    "\n",
    "    poly_obstacles = []\n",
    "    obs = PolygonalObstacle([2.5,2.5,0], [5.0, 5.0, 2.0])\n",
    "    push!(poly_obstacles, obs)\n",
    "    obs = PolygonalObstacle([7.0,3.0,0], [1.0, 1.0, 2.0])\n",
    "    push!(poly_obstacles, obs)\n",
    "    model.poly_obstacles = poly_obstacles\n",
    "\n",
    "    model.tf_guess = 110.\n",
    "    model.convergence_threshold = 0.7\n",
    "    \n",
    "    return model\n",
    "end"
   ]
  },
  {
   "cell_type": "markdown",
   "metadata": {},
   "source": [
    "## Plotting helper functions"
   ]
  },
  {
   "cell_type": "code",
   "execution_count": 6,
   "metadata": {},
   "outputs": [
    {
     "data": {
      "text/plain": [
       "plot_env_and_trajs (generic function with 2 methods)"
      ]
     },
     "execution_count": 6,
     "metadata": {},
     "output_type": "execute_result"
    }
   ],
   "source": [
    "function plot_env_and_trajs(model, X_all, labls = :None)\n",
    "    N = length(X_all)\n",
    "    if labls == :None\n",
    "        labls = fill(\"\",(size(X_all,1),1))\n",
    "    end\n",
    "    \n",
    "    idx = [1,2]\n",
    "    local fig\n",
    "    fig = plot(framestyle = :box)\n",
    "    for iter = 1:length(X_all)\n",
    "        X = X_all[iter]\n",
    "        plot!(fig, X[idx[1],:], X[idx[2],:];line=(5, :dash), lab = labls[iter])\n",
    "    end\n",
    "\n",
    "    for obs_i = 1:length(model.obstacles)\n",
    "        p_obs, obs_radius = model.obstacles[obs_i][1], model.obstacles[obs_i][2]\n",
    "        plot_circle(p_obs[idx], obs_radius,lab =\"\"; color=:red, fig=fig)\n",
    "    end\n",
    "    \n",
    "    for obs_i = 1:length(model.poly_obstacles)\n",
    "        center =  model.poly_obstacles[obs_i].c\n",
    "        (c1,c2) = center[idx]\n",
    "        if idx[1] == 1\n",
    "            r1 = model.poly_obstacles[obs_i].dx\n",
    "        elseif idx[1] == 2\n",
    "            r1 = model.poly_obstacles[obs_i].dy\n",
    "        else\n",
    "            r1 = model.poly_obstacles[obs_i].dz\n",
    "        end\n",
    "        if idx[2] == 1\n",
    "            r2 = model.poly_obstacles[obs_i].dx\n",
    "        elseif idx[2] == 2\n",
    "            r2 = model.poly_obstacles[obs_i].dy\n",
    "        else\n",
    "            r2 = model.poly_obstacles[obs_i].dz\n",
    "        end\n",
    "        lab = \"\"\n",
    "        color = :red\n",
    "        plot!(Shape([(c1-r1,c2-r2), (c1-r1,c2+r2), (c1+r1,c2+r2), (c1+r1, c2-r2)]), seriestype = [:shape,], lw = 0.5,\n",
    "                c = color, linecolor = :black,\n",
    "                legend = false, fillalpha = 0.5, aspect_ratio = 1, label = lab)\n",
    "    end\n",
    "    xlims!((model.x_min[idx[1]],model.x_max[idx[1]]))\n",
    "    ylims!((model.x_min[idx[2]],model.x_max[idx[2]]))\n",
    "    plot!(leg = true)\n",
    "    return fig\n",
    "end"
   ]
  },
  {
   "cell_type": "markdown",
   "metadata": {},
   "source": [
    "# Example problem"
   ]
  },
  {
   "cell_type": "code",
   "execution_count": 7,
   "metadata": {},
   "outputs": [
    {
     "ename": "UndefVarError",
     "evalue": "UndefVarError: AstrobeeSE3 not defined",
     "output_type": "error",
     "traceback": [
      "UndefVarError: AstrobeeSE3 not defined",
      "",
      "Stacktrace:",
      " [1] getModelWithTwoPolyObsOneAtCorner() at ./In[5]:5",
      " [2] top-level scope at In[7]:5"
     ]
    }
   ],
   "source": [
    "x_start= [0.9375, 8.0, 0.2]\n",
    "x_goal = [7.5, 2.1875, 0.5]\n",
    "x_init = [x_start[1];x_start[2];x_start[3]; 0;0;0;  0.;0.;0.; 1.;  0;0;0]\n",
    "x_final = [x_goal[1];x_goal[2];x_goal[3]; 0;0;0;  0.;0.;1.0; 0.;  0;0;0]\n",
    "model = getModelWithTwoPolyObsOneAtCorner()\n",
    "\n",
    "# GuSTO solution time and trajectory\n",
    "time_start = time_ns()\n",
    "model, isConverged, numIter, X_all_true, U_all_true = findTrueGuSTOSolution(x_init, x_final, model)\n",
    "gusto_solve_time = (time_ns() - time_start)/10^9\n",
    "println(\"GuSTO solve time = $gusto_solve_time ($numIter iterations)\")\n",
    "X_soln = X_all_true[end]"
   ]
  },
  {
   "cell_type": "markdown",
   "metadata": {},
   "source": [
    "# Plot solution in 2D"
   ]
  },
  {
   "cell_type": "code",
   "execution_count": 8,
   "metadata": {},
   "outputs": [
    {
     "ename": "UndefVarError",
     "evalue": "UndefVarError: X_all_true not defined",
     "output_type": "error",
     "traceback": [
      "UndefVarError: X_all_true not defined",
      "",
      "Stacktrace:",
      " [1] top-level scope at In[8]:1"
     ]
    }
   ],
   "source": [
    "plot_env_and_trajs(model, [X_all_true[end]], [\"Solution\"])\n"
   ]
  },
  {
   "cell_type": "markdown",
   "metadata": {},
   "source": [
    "# Plot solution in 3D"
   ]
  },
  {
   "cell_type": "code",
   "execution_count": null,
   "metadata": {
    "scrolled": true
   },
   "outputs": [
    {
     "name": "stderr",
     "output_type": "stream",
     "text": [
      "┌ Info: Precompiling MeshCat [283c5d60-a78f-5afe-a0af-af636b173e11]\n",
      "└ @ Base loading.jl:1192\n"
     ]
    },
    {
     "data": {
      "text/html": [
       "<script>\n",
       "// Immediately-invoked-function-expression to avoid global variables.\n",
       "(function() {\n",
       "    var warning_div = document.getElementById(\"webio-warning-5941334294867759954\");\n",
       "    var hide = function () {\n",
       "        var script = document.getElementById(\"webio-setup-3286836463128755570\");\n",
       "        var parent = script && script.parentElement;\n",
       "        var grandparent = parent && parent.parentElement;\n",
       "        if (grandparent) {\n",
       "            grandparent.style.display = \"none\";\n",
       "        }\n",
       "        warning_div.style.display = \"none\";\n",
       "    };\n",
       "    if (typeof Jupyter !== \"undefined\") {\n",
       "        console.log(\"WebIO detected Jupyter notebook environment.\");\n",
       "        // Jupyter notebook.\n",
       "        var extensions = (\n",
       "            Jupyter\n",
       "            && Jupyter.notebook.config.data\n",
       "            && Jupyter.notebook.config.data.load_extensions\n",
       "        );\n",
       "        if (extensions && extensions[\"webio-jupyter-notebook\"]) {\n",
       "            // Extension already loaded.\n",
       "            console.log(\"Jupyter WebIO nbextension detected; not loading ad-hoc.\");\n",
       "            hide();\n",
       "            return;\n",
       "        }\n",
       "    } else if (window.location.pathname.includes(\"/lab\")) {\n",
       "        // Guessing JupyterLa\n",
       "        console.log(\"Jupyter Lab detected; make sure the @webio/jupyter-lab-provider labextension is installed.\");\n",
       "        hide();\n",
       "        return;\n",
       "    }\n",
       "})();\n",
       "\n",
       "</script>\n",
       "<p\n",
       "    id=\"webio-warning-5941334294867759954\"\n",
       "    class=\"output_text output_stderr\"\n",
       "    style=\"padding: 1em; font-weight: bold;\"\n",
       ">\n",
       "    Unable to load WebIO. Please make sure WebIO works for your Jupyter client.\n",
       "    For troubleshooting, please see <a href=\"https://juliagizmos.github.io/WebIO.jl/latest/providers/ijulia/\">\n",
       "    the WebIO/IJulia documentation</a>.\n",
       "    <!-- TODO: link to installation docs. -->\n",
       "</p>\n"
      ],
      "text/plain": [
       "HTML{String}(\"<script>\\n// Immediately-invoked-function-expression to avoid global variables.\\n(function() {\\n    var warning_div = document.getElementById(\\\"webio-warning-5941334294867759954\\\");\\n    var hide = function () {\\n        var script = document.getElementById(\\\"webio-setup-3286836463128755570\\\");\\n        var parent = script && script.parentElement;\\n        var grandparent = parent && parent.parentElement;\\n        if (grandparent) {\\n            grandparent.style.display = \\\"none\\\";\\n        }\\n        warning_div.style.display = \\\"none\\\";\\n    };\\n    if (typeof Jupyter !== \\\"undefined\\\") {\\n        console.log(\\\"WebIO detected Jupyter notebook environment.\\\");\\n        // Jupyter notebook.\\n        var extensions = (\\n            Jupyter\\n            && Jupyter.notebook.config.data\\n            && Jupyter.notebook.config.data.load_extensions\\n        );\\n        if (extensions && extensions[\\\"webio-jupyter-notebook\\\"]) {\\n            // Extension already loaded.\\n            console.log(\\\"Jupyter WebIO nbextension detected; not loading ad-hoc.\\\");\\n            hide();\\n            return;\\n        }\\n    } else if (window.location.pathname.includes(\\\"/lab\\\")) {\\n        // Guessing JupyterLa\\n        console.log(\\\"Jupyter Lab detected; make sure the @webio/jupyter-lab-provider labextension is installed.\\\");\\n        hide();\\n        return;\\n    }\\n})();\\n\\n</script>\\n<p\\n    id=\\\"webio-warning-5941334294867759954\\\"\\n    class=\\\"output_text output_stderr\\\"\\n    style=\\\"padding: 1em; font-weight: bold;\\\"\\n>\\n    Unable to load WebIO. Please make sure WebIO works for your Jupyter client.\\n    For troubleshooting, please see <a href=\\\"https://juliagizmos.github.io/WebIO.jl/latest/providers/ijulia/\\\">\\n    the WebIO/IJulia documentation</a>.\\n    <!-- TODO: link to installation docs. -->\\n</p>\\n\")"
      ]
     },
     "metadata": {},
     "output_type": "display_data"
    }
   ],
   "source": [
    "# using BulletCollision\n",
    "\n",
    "using Plots\n",
    "# using RigidBodySim, RigidBodyDynamics\n",
    "using MeshCat, MeshCatMechanisms\n",
    "using CoordinateTransformations\n",
    "using Interact, Reactive\n",
    "# using MAT, FileIO, MeshIO\n",
    "using MechanismGeometries\n",
    "# using ForwardDiff\n",
    "import GeometryTypes: HyperRectangle, HyperSphere, HomogenousMesh, HyperCube\n",
    "# import ColorTypes: RGB, RGBA\n",
    "\n",
    "# using StaticArrays, DataStructures\n",
    "# using JuMP, Convex\n",
    "# using Ipopt, Mosek, SCS\n",
    "# using MosekTools\n",
    "# using Gurobi\n",
    "# using MathProgBase, MathOptInterface\n",
    "# using NLsolve, DifferentialEquations\n",
    "\n",
    "# using MAT\n",
    "using GeometryTypes\n",
    "using FillArrays\n",
    "using LinearAlgebra\n",
    "\n",
    "using AstrobeeRobot\n",
    "using ColorTypes\n",
    "\n",
    "\n",
    "\n",
    "\n",
    "N = 50\n",
    "# Animate Astrobee trajectory\n",
    "vis = Visualizer()\n",
    "delete!(vis)\n",
    "\n",
    "\n",
    "# vis[:goal]\n",
    "# for (idx,obs) in enumerate(env.keepout_zones)\n",
    "#     setobject!(vis[:goal][:goal], \n",
    "#         Object(HyperSphere(Point3f0(x_goal[1:3]), 0.1f0),\n",
    "#             MeshBasicMaterial(color=RGBA(0,1.0,0.,0.3))))\n",
    "# end\n",
    "\n",
    "# keepin_zones = []\n",
    "# push!(keepin_zones,\n",
    "#   HyperRectangle(Vec3f0([0.0,0.0,0.0]), Vec3f0([10.0,10.0,2.0])))\n",
    "# vis[:workspace]\n",
    "# for (idx,ws) in enumerate(keepin_zones)\n",
    "#     if idx in (5,8)\n",
    "#         setobject!(vis[:workspace][Symbol(string(\"ws\",idx))],\n",
    "#             Object(ws, MeshBasicMaterial(color=RGBA(0.95,0.93,0.26,0.3), depthWrite=false)))\n",
    "#     else\n",
    "#         setobject!(vis[:workspace][Symbol(string(\"ws\",idx))],\n",
    "#             Object(ws, MeshBasicMaterial(color=RGBA(0.95,0.93,0.26,0.3))))\n",
    "#     end\n",
    "# end\n",
    "\n",
    "# vis[:obstacle]\n",
    "# for (idx,ws) in enumerate(env.obstacle_set)\n",
    "#     setobject!(vis[:workspace][Symbol(string(\"ws\",idx+length(env.keepin_zones)))],\n",
    "#         Object(ws,MeshBasicMaterial(color=RGBA(0.95,0.26,0.26,0.3))))\n",
    "# end\n",
    "\n",
    "obstacles = []\n",
    "# push!(obstacles,\n",
    "#   HyperSphere(Point3f0([0.4,-0.10,0.]), Float32(0.1)))\n",
    "\n",
    "# push!(obstacles,\n",
    "#   HyperCube(Vec3f0([2.5,2.5,0.5]), Float32(1.0)))\n",
    "\n",
    "push!(obstacles,\n",
    "  HyperRectangle(Vec3f0([0.0,0.0,0.0]), Vec3f0([5.0,5.0,1.0])))\n",
    "\n",
    "push!(obstacles,\n",
    "  HyperRectangle(Vec3f0([6.5,2.5,0.0]), Vec3f0([1.0,1.0,1.0])))\n",
    "\n",
    "vis[:obstacle]\n",
    "for (idx,ws) in enumerate(obstacles)\n",
    "    setobject!(vis[:workspace][Symbol(string(\"ws\",idx+1))],\n",
    "        Object(ws,MeshBasicMaterial(color=RGBA(0.95,0.26,0.26,0.3))))\n",
    "end\n",
    "\n",
    "# setobject!(vis[:workspace][Symbol(string(\"mine\"))], Object(Astrobee(), Vec3f0([0.0,0.0,0.0])))\n",
    "\n",
    "# verts = rand(Point3f0, 100_000)\n",
    "# @show typeof(verts)\n",
    "verts = Array{Point{3,Float32},1}()\n",
    "for rep in 1:100\n",
    "    for j in 1:size(X_soln, 2)\n",
    "        push!(verts, Point3f0(X_soln[1:3,j]+rand(3)/100))\n",
    "    end\n",
    "end\n",
    "colors = [RGB(Point3f0([0,0,0])...) for p in verts]\n",
    "setobject!(vis, PointCloud(verts, colors))\n",
    "\n",
    "ab = Astrobee()\n",
    "mvis = MechanismVisualizer(\n",
    "    ab.mechanism,\n",
    "    URDFVisuals(AstrobeeRobot.urdfpath(), package_path=[dirname(dirname(AstrobeeRobot.urdfpath()))]),\n",
    "    vis);\n",
    "\n",
    "speed_factor = 3\n",
    "\n",
    "Qs = Vector{Vector{Float64}}()\n",
    "for k in 1:speed_factor:N\n",
    "    q = [quat_inv(X_soln[7:10,k]); X_soln[1:3,k]]\n",
    "    push!(Qs,q)\n",
    "end\n",
    "\n",
    "trans = Translation(14., -1., 7.)\n",
    "rot = LinearMap(RotZ(-0.6)) ∘ LinearMap(RotY(-0.2))\n",
    "settransform!(vis[\"/Cameras/default\"], trans ∘ rot)\n",
    "setprop!(vis[\"/Cameras/default/rotated/<object>\"], \"zoom\", 1.9)\n",
    "setprop!(vis[\"/Cameras/default/rotated/<object>\"], \"near\", 0.05)\n",
    "\n",
    "sleep(3)\n",
    "setanimation!(mvis,1:length(Qs),Qs)\n",
    "\n",
    "plot_in_cell = false\n",
    "plot_in_cell ? IJuliaCell(vis) : open(vis)"
   ]
  },
  {
   "cell_type": "code",
   "execution_count": null,
   "metadata": {},
   "outputs": [],
   "source": []
  }
 ],
 "metadata": {
  "kernelspec": {
   "display_name": "Julia 1.0.5",
   "language": "julia",
   "name": "julia-1.0"
  },
  "language_info": {
   "file_extension": ".jl",
   "mimetype": "application/julia",
   "name": "julia",
   "version": "1.0.5"
  }
 },
 "nbformat": 4,
 "nbformat_minor": 2
}

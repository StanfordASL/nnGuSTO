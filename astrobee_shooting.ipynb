{
 "cells": [
  {
   "cell_type": "code",
   "execution_count": 12,
   "metadata": {},
   "outputs": [
    {
     "name": "stdout",
     "output_type": "stream",
     "text": [
      "oh yeah\n"
     ]
    }
   ],
   "source": [
    "include(\"astrobee_se3_script.jl\")\n",
    "using Plots\n",
    "\n",
    "N = 30\n",
    "MAX_ITERATIONS_NB = 5\n",
    "\n",
    "model = Astrobee()\n",
    "\n",
    "X, U  = initialize_trajectory(model, N)\n",
    "Xp,Up = copy(X), copy(U)\n",
    "\n",
    "SCPproblem = GuSTOProblem(model, N, Xp, Up)\n",
    "\n",
    "x_dim, u_dim = model.x_dim, model.u_dim\n",
    "\n",
    "Delta0, omega0, omegamax, \n",
    "    epsilon, rho0, rho1, \n",
    "    beta_succ, beta_fail, gamma_fail, \n",
    "    convergence_threshold = get_initial_gusto_parameters(model)\n",
    "\n",
    "Delta = Delta0\n",
    "omega = omega0\n",
    "\n",
    "X = zeros(x_dim, N)\n",
    "U = zeros(u_dim, N-1)\n",
    "println(\"oh yeah\")"
   ]
  },
  {
   "cell_type": "code",
   "execution_count": 13,
   "metadata": {},
   "outputs": [
    {
     "data": {
      "text/plain": [
       "30"
      ]
     },
     "execution_count": 13,
     "metadata": {},
     "output_type": "execute_result"
    }
   ],
   "source": [
    "length(SCPproblem.X[1,:])"
   ]
  },
  {
   "cell_type": "code",
   "execution_count": 14,
   "metadata": {},
   "outputs": [],
   "source": [
    "\n",
    "    problem = Model(with_optimizer(Ipopt.Optimizer))\n",
    "@variable(problem, x[1:3,1:7]);"
   ]
  },
  {
   "cell_type": "code",
   "execution_count": 15,
   "metadata": {},
   "outputs": [
    {
     "name": "stdout",
     "output_type": "stream",
     "text": [
      "-----------\n",
      "Iteration 0\n",
      "-----------\n"
     ]
    },
    {
     "ename": "MethodError",
     "evalue": "MethodError: no method matching isless(::Float64, ::VariableRef)\nClosest candidates are:\n  isless(::Float64, !Matched::Float64) at float.jl:459\n  isless(!Matched::Missing, ::Any) at missing.jl:66\n  isless(::AbstractFloat, !Matched::AbstractFloat) at operators.jl:148\n  ...",
     "output_type": "error",
     "traceback": [
      "MethodError: no method matching isless(::Float64, ::VariableRef)\nClosest candidates are:\n  isless(::Float64, !Matched::Float64) at float.jl:459\n  isless(!Matched::Missing, ::Any) at missing.jl:66\n  isless(::AbstractFloat, !Matched::AbstractFloat) at operators.jl:148\n  ...",
      "",
      "Stacktrace:",
      " [1] max(::VariableRef, ::Float64) at ./operators.jl:400",
      " [2] add_penalties(::GuSTOProblem, ::Astrobee) at /home/freeflyerhub/GuSTO_shooting/jlGuSTO/SCP/gusto_problem.jl:132",
      " [3] top-level scope at ./In[15]:15"
     ]
    }
   ],
   "source": [
    "include(\"astrobee_se3_script.jl\")\n",
    "B_success = false\n",
    "it = 0\n",
    "while it<MAX_ITERATIONS_NB && \n",
    "        !(it!=0 && it!=1 && B_success && \n",
    "            convergence_metric(model,X,U,Xp,Up)<convergence_threshold) &&\n",
    "        omega<omegamax\n",
    "    println(\"-----------\")\n",
    "    println(\"Iteration $it\")\n",
    "    println(\"-----------\")\n",
    "    \n",
    "    Xp = copy(X)\n",
    "    Up = copy(U)\n",
    "    set_parameters(SCPproblem, model, Xp, Up)\n",
    "    add_penalties(SCPproblem, model)\n",
    "    \n",
    "    model.f, model.A, model.B = compute_dynamics(model, Xp, Up)\n",
    "    it += 1\n",
    "    \n",
    "    println(\"Parameters:\")\n",
    "    println(\"omega=$omega\")\n",
    "    println(\"delta=$Delta\")\n",
    "end\n"
   ]
  },
  {
   "cell_type": "code",
   "execution_count": 16,
   "metadata": {},
   "outputs": [
    {
     "data": {
      "text/plain": [
       "false"
      ]
     },
     "execution_count": 16,
     "metadata": {},
     "output_type": "execute_result"
    }
   ],
   "source": [
    "isdefined(1//2, :convergence_metric)"
   ]
  }
 ],
 "metadata": {
  "kernelspec": {
   "display_name": "Julia 1.0.3",
   "language": "julia",
   "name": "julia-1.0"
  },
  "language_info": {
   "file_extension": ".jl",
   "mimetype": "application/julia",
   "name": "julia",
   "version": "1.0.3"
  }
 },
 "nbformat": 4,
 "nbformat_minor": 2
}

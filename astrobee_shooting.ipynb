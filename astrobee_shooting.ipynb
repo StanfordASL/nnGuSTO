{
 "cells": [
  {
   "cell_type": "code",
   "execution_count": 1,
   "metadata": {},
   "outputs": [
    {
     "name": "stdout",
     "output_type": "stream",
     "text": [
      "oh yeah\n"
     ]
    }
   ],
   "source": [
    "include(\"astrobee_se3_script.jl\")\n",
    "using Plots\n",
    "\n",
    "N = 200\n",
    "MAX_ITERATIONS_NB = 100\n",
    "\n",
    "model = Astrobee()\n",
    "\n",
    "Xp,Up = initialize_trajectory(model, N)\n",
    "X, U  = copy(Xp) .+ 2., copy(Up) .+ 2.\n",
    "\n",
    "SCPproblem = GuSTOProblem(model, N, Xp, Up)\n",
    "\n",
    "x_dim, u_dim = model.x_dim, model.u_dim\n",
    "\n",
    "Delta0, omega0, omegamax, \n",
    "    epsilon, rho0, rho1, \n",
    "    beta_succ, beta_fail, gamma_fail, \n",
    "    convergence_threshold = get_initial_gusto_parameters(model)\n",
    "\n",
    "Delta = Delta0\n",
    "omega = omega0\n",
    "\n",
    "# X = zeros(x_dim, N)\n",
    "# U = zeros(u_dim, N-1)\n",
    "println(\"oh yeah\")"
   ]
  },
  {
   "cell_type": "code",
   "execution_count": 2,
   "metadata": {},
   "outputs": [],
   "source": [
    "\n",
    "#     problem = Model(with_optimizer(Ipopt.Optimizer, print_level=0))"
   ]
  },
  {
   "cell_type": "code",
   "execution_count": 3,
   "metadata": {},
   "outputs": [
    {
     "data": {
      "text/plain": [
       "5.0"
      ]
     },
     "execution_count": 3,
     "metadata": {},
     "output_type": "execute_result"
    }
   ],
   "source": [
    "gamma_fail"
   ]
  },
  {
   "cell_type": "code",
   "execution_count": 4,
   "metadata": {},
   "outputs": [
    {
     "data": {
      "text/plain": [
       "0.1"
      ]
     },
     "execution_count": 4,
     "metadata": {},
     "output_type": "execute_result"
    }
   ],
   "source": [
    "beta_fail"
   ]
  },
  {
   "cell_type": "code",
   "execution_count": 5,
   "metadata": {
    "scrolled": false
   },
   "outputs": [
    {
     "name": "stdout",
     "output_type": "stream",
     "text": [
      "-----------\n",
      "Iteration 0\n",
      "metric=94.24868789068172\n",
      "-----------\n"
     ]
    },
    {
     "ename": "StackOverflowError",
     "evalue": "StackOverflowError:",
     "output_type": "error",
     "traceback": [
      "StackOverflowError:",
      "",
      "Stacktrace:",
      " [1] generic_norm2(::GenericAffExpr{Float64,VariableRef}) at /buildworker/worker/package_linux64/build/usr/share/julia/stdlib/v1.1/LinearAlgebra/src/generic.jl:320",
      " [2] norm2(::GenericAffExpr{Float64,VariableRef}) at /buildworker/worker/package_linux64/build/usr/share/julia/stdlib/v1.1/LinearAlgebra/src/generic.jl:381",
      " [3] norm(::GenericAffExpr{Float64,VariableRef}, ::Int64) at /buildworker/worker/package_linux64/build/usr/share/julia/stdlib/v1.1/LinearAlgebra/src/generic.jl:450",
      " [4] norm(::GenericAffExpr{Float64,VariableRef}) at /buildworker/worker/package_linux64/build/usr/share/julia/stdlib/v1.1/LinearAlgebra/src/generic.jl:448",
      " [5] generic_normInf(::GenericAffExpr{Float64,VariableRef}) at /buildworker/worker/package_linux64/build/usr/share/julia/stdlib/v1.1/LinearAlgebra/src/generic.jl:289",
      " [6] normInf(::GenericAffExpr{Float64,VariableRef}) at /buildworker/worker/package_linux64/build/usr/share/julia/stdlib/v1.1/LinearAlgebra/src/generic.jl:379",
      " ... (the last 6 lines are repeated 13332 more times)",
      " [79999] generic_norm2(::GenericAffExpr{Float64,VariableRef}) at /buildworker/worker/package_linux64/build/usr/share/julia/stdlib/v1.1/LinearAlgebra/src/generic.jl:320"
     ]
    }
   ],
   "source": [
    "include(\"astrobee_se3_script.jl\")\n",
    "\n",
    "X_all, U_all, x_shooting_all = [], [], []\n",
    "push!(X_all, copy(X))\n",
    "push!(U_all, copy(U))\n",
    "\n",
    "B_success = false\n",
    "it = 0\n",
    "\n",
    "while it<MAX_ITERATIONS_NB && \n",
    "        !(it!=0 && it!=1 && it!=2 && it!=3 && B_success && \n",
    "            convergence_metric(model,X,U,Xp,Up)<convergence_threshold) &&\n",
    "        omega<omegamax\n",
    "    println(\"-----------\")\n",
    "    println(\"Iteration $it\")\n",
    "    println(\"metric=$(convergence_metric(model,X,U,Xp,Up))\")\n",
    "    println(\"-----------\")\n",
    "    \n",
    "    \n",
    "#     omega, Delta = SCPproblem.omega, SCPproblem.Delta\n",
    "    \n",
    "    Xp = copy(X)\n",
    "    Up = copy(U)\n",
    "    \n",
    "    model.f, model.A, model.B = compute_dynamics(model, Xp, Up)\n",
    "    \n",
    "    reset_problem(SCPproblem, model)\n",
    "    set_parameters(SCPproblem, model, Xp, Up, omega, Delta)\n",
    "    define_cost(SCPproblem, model)\n",
    "    define_constraints(SCPproblem, model)\n",
    "    \n",
    "    JuMP.optimize!(SCPproblem.solver_model)    \n",
    "    p0 = get_initial_constraint_dual_variable(SCPproblem, model)\n",
    "    println(\"dual variables:\", p0)\n",
    "    # get solution\n",
    "    X_sol = JuMP.value.(SCPproblem.X)\n",
    "    U_sol = JuMP.value.(SCPproblem.U)\n",
    "    \n",
    "    # try shooting\n",
    "    #x_shooting, sol_newton = solve_shooting(SCPproblem, model, p0)\n",
    "#     x_shooting = solve_shooting_once(SCPproblem, model, p0)\n",
    "    #push!(x_shooting_all, x_shooting)\n",
    "    \n",
    "    # -----------\n",
    "    # GuSTO Logic\n",
    "    if it > 3\n",
    "        if is_in_trust_region(model, X_sol, U_sol, Xp, Up, Delta)\n",
    "            rho = accuracy_ratio(SCPproblem, model, X_sol, U_sol, Xp, Up)\n",
    "\n",
    "            if rho > rho1\n",
    "                println(\"Reject solution.\")\n",
    "                Delta = beta_fail * Delta\n",
    "                omega     = omega\n",
    "                B_success = false\n",
    "\n",
    "            else\n",
    "                println(\"Accept solution.\")\n",
    "                X = copy(X_sol)\n",
    "                U = copy(U_sol)\n",
    "                B_success = true\n",
    "                if rho < rho0\n",
    "                    Delta = min(beta_succ*Delta, Delta0)\n",
    "                else\n",
    "                    Delta = Delta\n",
    "                end\n",
    "                if satisfies_state_inequality_constraints(SCPproblem, model, X_sol, U_sol, Xp, Up, Delta)\n",
    "                    omega = omega0\n",
    "                else\n",
    "                    println(\"Solution does not satisfy state constraints, increasing omega.\")\n",
    "                    omega = gamma_fail * omega\n",
    "                end\n",
    "            end\n",
    "        else\n",
    "            println(\"Reject solution (Outside trust region)\")\n",
    "            Delta = Delta\n",
    "            omega     = gamma_fail * omega\n",
    "            B_success = false\n",
    "        end\n",
    "#         if convergence_metric(model,X,U,Xp,Up) <0.6\n",
    "#             println(\"Convergence metric very small. Decreasing Delta.\")\n",
    "#             Delta = Delta0./(2^it)\n",
    "#         end\n",
    "            \n",
    "    else # always accept first solution\n",
    "        X = copy(X_sol)\n",
    "        U = copy(U_sol)\n",
    "    end\n",
    "        \n",
    "                    \n",
    "    # -----------\n",
    "\n",
    "    push!(X_all, copy(X))\n",
    "    push!(U_all, copy(U))\n",
    "                    \n",
    "    \n",
    "    it += 1\n",
    "    \n",
    "    diff_with_prev = norm(copy(X) - copy(Xp), Inf)\n",
    "    println(\"x(k) - x(k-1) = $diff_with_prev\")\n",
    "    println(\"Parameters:\")\n",
    "    println(\"omega=$omega\")\n",
    "    println(\"delta=$Delta\")\n",
    "end\n",
    "println(\"Converged\")"
   ]
  },
  {
   "cell_type": "code",
   "execution_count": 6,
   "metadata": {
    "scrolled": true
   },
   "outputs": [
    {
     "data": {
      "text/plain": [
       "5.0"
      ]
     },
     "execution_count": 6,
     "metadata": {},
     "output_type": "execute_result"
    }
   ],
   "source": [
    "gamma_fail"
   ]
  },
  {
   "cell_type": "code",
   "execution_count": 7,
   "metadata": {
    "scrolled": true
   },
   "outputs": [
    {
     "ename": "BoundsError",
     "evalue": "BoundsError: attempt to access 0-element Array{Any,1} at index [1]",
     "output_type": "error",
     "traceback": [
      "BoundsError: attempt to access 0-element Array{Any,1} at index [1]",
      "",
      "Stacktrace:",
      " [1] getindex(::Array{Any,1}, ::Int64) at ./array.jl:729",
      " [2] get_initial_constraint_dual_variable(::GuSTOProblem, ::Astrobee) at /home/freeflyerhub/GuSTO_shooting/jlGuSTO/SCP/gusto_problem.jl:78",
      " [3] top-level scope at In[7]:1"
     ]
    }
   ],
   "source": [
    "init_duals = get_initial_constraint_dual_variable(SCPproblem, model)"
   ]
  },
  {
   "cell_type": "code",
   "execution_count": 8,
   "metadata": {},
   "outputs": [
    {
     "ename": "BoundsError",
     "evalue": "BoundsError: attempt to access 0-element Array{Any,1} at index [1]",
     "output_type": "error",
     "traceback": [
      "BoundsError: attempt to access 0-element Array{Any,1} at index [1]",
      "",
      "Stacktrace:",
      " [1] getindex(::Array{Any,1}, ::Int64) at ./array.jl:729",
      " [2] get_initial_constraint_dual_variable(::GuSTOProblem, ::Astrobee) at /home/freeflyerhub/GuSTO_shooting/jlGuSTO/SCP/gusto_problem.jl:78",
      " [3] top-level scope at In[8]:2"
     ]
    }
   ],
   "source": [
    "include(\"astrobee_se3_script.jl\")\n",
    " \n",
    "sol_newton = solve_shooting(SCPproblem, model, get_initial_constraint_dual_variable(SCPproblem, model))\n",
    "#x_shooting = solve_shooting_once(SCPproblem, model, sol_newton.zero)"
   ]
  },
  {
   "cell_type": "code",
   "execution_count": 9,
   "metadata": {},
   "outputs": [
    {
     "ename": "UndefVarError",
     "evalue": "UndefVarError: x_shooting not defined",
     "output_type": "error",
     "traceback": [
      "UndefVarError: x_shooting not defined",
      "",
      "Stacktrace:",
      " [1] top-level scope at In[9]:1"
     ]
    }
   ],
   "source": [
    "xN = x_shooting[:,end]\n",
    "\n",
    "for i = 1:x_dim\n",
    "    Fi = model.x_final[i] - xN[i]\n",
    "    @show Fi\n",
    "end"
   ]
  },
  {
   "cell_type": "code",
   "execution_count": 10,
   "metadata": {},
   "outputs": [],
   "source": [
    "\n",
    "    for x_shooting in x_shooting_all\n",
    "        if size(x_shooting,1) > 1\n",
    "        @show minimum(x_shooting)\n",
    "        end\n",
    "end"
   ]
  },
  {
   "cell_type": "code",
   "execution_count": 11,
   "metadata": {},
   "outputs": [
    {
     "data": {
      "text/plain": [
       "0-element Array{Any,1}"
      ]
     },
     "execution_count": 11,
     "metadata": {},
     "output_type": "execute_result"
    }
   ],
   "source": [
    "x_shooting_all"
   ]
  },
  {
   "cell_type": "code",
   "execution_count": 12,
   "metadata": {},
   "outputs": [
    {
     "ename": "BoundsError",
     "evalue": "BoundsError: attempt to access 1-element Array{Any,1} at index [0:1]",
     "output_type": "error",
     "traceback": [
      "BoundsError: attempt to access 1-element Array{Any,1} at index [0:1]",
      "",
      "Stacktrace:",
      " [1] throw_boundserror(::Array{Any,1}, ::Tuple{UnitRange{Int64}}) at ./abstractarray.jl:484",
      " [2] checkbounds at ./abstractarray.jl:449 [inlined]",
      " [3] getindex(::Array{Any,1}, ::UnitRange{Int64}) at ./array.jl:735",
      " [4] top-level scope at In[12]:2"
     ]
    }
   ],
   "source": [
    "include(\"astrobee_se3_script.jl\")\n",
    "#plot(X[1,:],X[2,:])\n",
    "\n",
    "plot_solutions(SCPproblem, model, X_all[end-1:end], U_all[end-1:end]; x_shooting_all=x_shooting_all)"
   ]
  },
  {
   "cell_type": "code",
   "execution_count": 13,
   "metadata": {
    "scrolled": true
   },
   "outputs": [
    {
     "data": {
      "image/svg+xml": [
       "<?xml version=\"1.0\" encoding=\"utf-8\"?>\n",
       "<svg xmlns=\"http://www.w3.org/2000/svg\" xmlns:xlink=\"http://www.w3.org/1999/xlink\" width=\"600\" height=\"400\" viewBox=\"0 0 2400 1600\">\n",
       "<defs>\n",
       "  <clipPath id=\"clip1400\">\n",
       "    <rect x=\"0\" y=\"0\" width=\"2400\" height=\"1600\"/>\n",
       "  </clipPath>\n",
       "</defs>\n",
       "<polygon clip-path=\"url(#clip1400)\" points=\"\n",
       "0,1600 2400,1600 2400,0 0,0 \n",
       "  \" fill=\"#ffffff\" fill-rule=\"evenodd\" fill-opacity=\"1\"/>\n",
       "<defs>\n",
       "  <clipPath id=\"clip1401\">\n",
       "    <rect x=\"480\" y=\"0\" width=\"1681\" height=\"1600\"/>\n",
       "  </clipPath>\n",
       "</defs>\n",
       "<polygon clip-path=\"url(#clip1400)\" points=\"\n",
       "560.648,1487.47 2000.88,1487.47 2000.88,47.2441 560.648,47.2441 \n",
       "  \" fill=\"#ffffff\" fill-rule=\"evenodd\" fill-opacity=\"1\"/>\n",
       "<defs>\n",
       "  <clipPath id=\"clip1402\">\n",
       "    <rect x=\"560\" y=\"47\" width=\"1441\" height=\"1441\"/>\n",
       "  </clipPath>\n",
       "</defs>\n",
       "<polyline clip-path=\"url(#clip1400)\" style=\"stroke:#cccccc; stroke-width:2; stroke-opacity:0.1; fill:none\" points=\"\n",
       "  691.086,1414.55 1218.25,1159.31 \n",
       "  \"/>\n",
       "<polyline clip-path=\"url(#clip1400)\" style=\"stroke:#cccccc; stroke-width:2; stroke-opacity:0.1; fill:none\" points=\"\n",
       "  1218.25,1159.31 1218.25,59.3982 \n",
       "  \"/>\n",
       "<polyline clip-path=\"url(#clip1400)\" style=\"stroke:#ededed; stroke-width:2; stroke-opacity:0.1; fill:none\" points=\"\n",
       "  854.135,1429.74 1381.3,1174.51 \n",
       "  \"/>\n",
       "<polyline clip-path=\"url(#clip1400)\" style=\"stroke:#ededed; stroke-width:2; stroke-opacity:0.1; fill:none\" points=\"\n",
       "  1381.3,1174.51 1381.3,74.5908 \n",
       "  \"/>\n",
       "<polyline clip-path=\"url(#clip1400)\" style=\"stroke:#cccccc; stroke-width:2; stroke-opacity:0.1; fill:none\" points=\"\n",
       "  1017.18,1444.94 1544.34,1189.7 \n",
       "  \"/>\n",
       "<polyline clip-path=\"url(#clip1400)\" style=\"stroke:#cccccc; stroke-width:2; stroke-opacity:0.1; fill:none\" points=\"\n",
       "  1544.34,1189.7 1544.34,89.7835 \n",
       "  \"/>\n",
       "<polyline clip-path=\"url(#clip1400)\" style=\"stroke:#ededed; stroke-width:2; stroke-opacity:0.1; fill:none\" points=\"\n",
       "  1180.23,1460.13 1707.39,1204.89 \n",
       "  \"/>\n",
       "<polyline clip-path=\"url(#clip1400)\" style=\"stroke:#ededed; stroke-width:2; stroke-opacity:0.1; fill:none\" points=\"\n",
       "  1707.39,1204.89 1707.39,104.976 \n",
       "  \"/>\n",
       "<polyline clip-path=\"url(#clip1400)\" style=\"stroke:#cccccc; stroke-width:2; stroke-opacity:0.1; fill:none\" points=\"\n",
       "  1343.28,1475.32 1870.44,1220.08 \n",
       "  \"/>\n",
       "<polyline clip-path=\"url(#clip1400)\" style=\"stroke:#cccccc; stroke-width:2; stroke-opacity:0.1; fill:none\" points=\"\n",
       "  1870.44,1220.08 1870.44,120.169 \n",
       "  \"/>\n",
       "<polyline clip-path=\"url(#clip1400)\" style=\"stroke:#cccccc; stroke-width:2; stroke-opacity:0.1; fill:none\" points=\"\n",
       "  635.957,1365.93 1549.03,1451.01 \n",
       "  \"/>\n",
       "<polyline clip-path=\"url(#clip1400)\" style=\"stroke:#cccccc; stroke-width:2; stroke-opacity:0.1; fill:none\" points=\"\n",
       "  635.957,1365.93 635.957,266.018 \n",
       "  \"/>\n",
       "<polyline clip-path=\"url(#clip1400)\" style=\"stroke:#ededed; stroke-width:2; stroke-opacity:0.1; fill:none\" points=\"\n",
       "  730.092,1320.36 1643.16,1405.43 \n",
       "  \"/>\n",
       "<polyline clip-path=\"url(#clip1400)\" style=\"stroke:#ededed; stroke-width:2; stroke-opacity:0.1; fill:none\" points=\"\n",
       "  730.092,1320.36 730.092,220.44 \n",
       "  \"/>\n",
       "<polyline clip-path=\"url(#clip1400)\" style=\"stroke:#cccccc; stroke-width:2; stroke-opacity:0.1; fill:none\" points=\"\n",
       "  824.228,1274.78 1737.3,1359.86 \n",
       "  \"/>\n",
       "<polyline clip-path=\"url(#clip1400)\" style=\"stroke:#cccccc; stroke-width:2; stroke-opacity:0.1; fill:none\" points=\"\n",
       "  824.228,1274.78 824.228,174.862 \n",
       "  \"/>\n",
       "<polyline clip-path=\"url(#clip1400)\" style=\"stroke:#ededed; stroke-width:2; stroke-opacity:0.1; fill:none\" points=\"\n",
       "  918.364,1229.2 1831.43,1314.28 \n",
       "  \"/>\n",
       "<polyline clip-path=\"url(#clip1400)\" style=\"stroke:#ededed; stroke-width:2; stroke-opacity:0.1; fill:none\" points=\"\n",
       "  918.364,1229.2 918.364,129.284 \n",
       "  \"/>\n",
       "<polyline clip-path=\"url(#clip1400)\" style=\"stroke:#cccccc; stroke-width:2; stroke-opacity:0.1; fill:none\" points=\"\n",
       "  1012.5,1183.62 1925.57,1268.7 \n",
       "  \"/>\n",
       "<polyline clip-path=\"url(#clip1400)\" style=\"stroke:#cccccc; stroke-width:2; stroke-opacity:0.1; fill:none\" points=\"\n",
       "  1012.5,1183.62 1012.5,83.7064 \n",
       "  \"/>\n",
       "<polyline clip-path=\"url(#clip1400)\" style=\"stroke:#cccccc; stroke-width:2; stroke-opacity:0.1; fill:none\" points=\"\n",
       "  560.648,1402.4 1087.81,1147.16 \n",
       "  \"/>\n",
       "<polyline clip-path=\"url(#clip1400)\" style=\"stroke:#cccccc; stroke-width:2; stroke-opacity:0.1; fill:none\" points=\"\n",
       "  1087.81,1147.16 2000.88,1232.24 \n",
       "  \"/>\n",
       "<polyline clip-path=\"url(#clip1400)\" style=\"stroke:#ededed; stroke-width:2; stroke-opacity:0.1; fill:none\" points=\"\n",
       "  560.648,1264.91 1087.81,1009.67 \n",
       "  \"/>\n",
       "<polyline clip-path=\"url(#clip1400)\" style=\"stroke:#ededed; stroke-width:2; stroke-opacity:0.1; fill:none\" points=\"\n",
       "  1087.81,1009.67 2000.88,1094.75 \n",
       "  \"/>\n",
       "<polyline clip-path=\"url(#clip1400)\" style=\"stroke:#cccccc; stroke-width:2; stroke-opacity:0.1; fill:none\" points=\"\n",
       "  560.648,1127.42 1087.81,872.181 \n",
       "  \"/>\n",
       "<polyline clip-path=\"url(#clip1400)\" style=\"stroke:#cccccc; stroke-width:2; stroke-opacity:0.1; fill:none\" points=\"\n",
       "  1087.81,872.181 2000.88,957.26 \n",
       "  \"/>\n",
       "<polyline clip-path=\"url(#clip1400)\" style=\"stroke:#ededed; stroke-width:2; stroke-opacity:0.1; fill:none\" points=\"\n",
       "  560.648,989.928 1087.81,734.691 \n",
       "  \"/>\n",
       "<polyline clip-path=\"url(#clip1400)\" style=\"stroke:#ededed; stroke-width:2; stroke-opacity:0.1; fill:none\" points=\"\n",
       "  1087.81,734.691 2000.88,819.77 \n",
       "  \"/>\n",
       "<polyline clip-path=\"url(#clip1400)\" style=\"stroke:#cccccc; stroke-width:2; stroke-opacity:0.1; fill:none\" points=\"\n",
       "  560.648,852.438 1087.81,597.202 \n",
       "  \"/>\n",
       "<polyline clip-path=\"url(#clip1400)\" style=\"stroke:#cccccc; stroke-width:2; stroke-opacity:0.1; fill:none\" points=\"\n",
       "  1087.81,597.202 2000.88,682.281 \n",
       "  \"/>\n",
       "<polyline clip-path=\"url(#clip1400)\" style=\"stroke:#ededed; stroke-width:2; stroke-opacity:0.1; fill:none\" points=\"\n",
       "  560.648,714.949 1087.81,459.712 \n",
       "  \"/>\n",
       "<polyline clip-path=\"url(#clip1400)\" style=\"stroke:#ededed; stroke-width:2; stroke-opacity:0.1; fill:none\" points=\"\n",
       "  1087.81,459.712 2000.88,544.791 \n",
       "  \"/>\n",
       "<polyline clip-path=\"url(#clip1400)\" style=\"stroke:#cccccc; stroke-width:2; stroke-opacity:0.1; fill:none\" points=\"\n",
       "  560.648,577.459 1087.81,322.223 \n",
       "  \"/>\n",
       "<polyline clip-path=\"url(#clip1400)\" style=\"stroke:#cccccc; stroke-width:2; stroke-opacity:0.1; fill:none\" points=\"\n",
       "  1087.81,322.223 2000.88,407.302 \n",
       "  \"/>\n",
       "<polyline clip-path=\"url(#clip1400)\" style=\"stroke:#ededed; stroke-width:2; stroke-opacity:0.1; fill:none\" points=\"\n",
       "  560.648,439.97 1087.81,184.734 \n",
       "  \"/>\n",
       "<polyline clip-path=\"url(#clip1400)\" style=\"stroke:#ededed; stroke-width:2; stroke-opacity:0.1; fill:none\" points=\"\n",
       "  1087.81,184.734 2000.88,269.812 \n",
       "  \"/>\n",
       "<polyline clip-path=\"url(#clip1400)\" style=\"stroke:#cccccc; stroke-width:2; stroke-opacity:0.1; fill:none\" points=\"\n",
       "  560.648,302.48 1087.81,47.2441 \n",
       "  \"/>\n",
       "<polyline clip-path=\"url(#clip1400)\" style=\"stroke:#cccccc; stroke-width:2; stroke-opacity:0.1; fill:none\" points=\"\n",
       "  1087.81,47.2441 2000.88,132.323 \n",
       "  \"/>\n",
       "<polyline clip-path=\"url(#clip1400)\" style=\"stroke:#000000; stroke-width:4; stroke-opacity:1; fill:none\" points=\"\n",
       "  454.793,1179.02 478.79,1167.41 \n",
       "  \"/>\n",
       "<polyline clip-path=\"url(#clip1400)\" style=\"stroke:#000000; stroke-width:4; stroke-opacity:1; fill:none\" points=\"\n",
       "  496.121,1139.27 492.122,1142.85 489.455,1149.08 488.122,1157.95 488.122,1162.89 489.455,1170.47 492.122,1174.12 496.121,1173.83 498.788,1172.54 502.787,1168.95 \n",
       "  505.454,1162.72 506.787,1153.85 506.787,1148.91 505.454,1141.33 502.787,1137.68 498.788,1137.98 496.121,1139.27 \n",
       "  \"/>\n",
       "<polyline clip-path=\"url(#clip1400)\" style=\"stroke:#000000; stroke-width:4; stroke-opacity:1; fill:none\" points=\"\n",
       "  517.452,1160.21 516.119,1162.5 517.452,1163.5 518.785,1161.21 517.452,1160.21 \n",
       "  \"/>\n",
       "<polyline clip-path=\"url(#clip1400)\" style=\"stroke:#000000; stroke-width:4; stroke-opacity:1; fill:none\" points=\"\n",
       "  544.116,1116.03 530.784,1122.48 529.451,1137.94 530.784,1135.65 534.784,1132.07 538.783,1130.13 542.783,1129.84 545.449,1131.84 546.782,1136.13 546.782,1139.42 \n",
       "  545.449,1145.01 542.783,1149.59 538.783,1153.17 534.784,1155.11 530.784,1155.4 529.451,1154.4 528.118,1151.75 \n",
       "  \"/>\n",
       "<polyline clip-path=\"url(#clip1400)\" style=\"stroke:#000000; stroke-width:4; stroke-opacity:1; fill:none\" points=\"\n",
       "  536.117,844.922 532.117,848.505 529.451,854.733 528.118,863.607 528.118,868.544 529.451,876.127 532.117,879.773 536.117,879.482 538.783,878.191 542.783,874.609 \n",
       "  545.449,868.381 546.782,859.507 546.782,854.57 545.449,846.987 542.783,843.341 538.783,843.631 536.117,844.922 \n",
       "  \"/>\n",
       "<polyline clip-path=\"url(#clip1400)\" style=\"stroke:#000000; stroke-width:4; stroke-opacity:1; fill:none\" points=\"\n",
       "  496.121,589.308 492.122,592.89 489.455,599.119 488.122,607.993 488.122,612.93 489.455,620.513 492.122,624.159 496.121,623.868 498.788,622.577 502.787,618.995 \n",
       "  505.454,612.767 506.787,603.893 506.787,598.956 505.454,591.373 502.787,587.727 498.788,588.017 496.121,589.308 \n",
       "  \"/>\n",
       "<polyline clip-path=\"url(#clip1400)\" style=\"stroke:#000000; stroke-width:4; stroke-opacity:1; fill:none\" points=\"\n",
       "  517.452,610.249 516.119,612.54 517.452,613.54 518.785,611.249 517.452,610.249 \n",
       "  \"/>\n",
       "<polyline clip-path=\"url(#clip1400)\" style=\"stroke:#000000; stroke-width:4; stroke-opacity:1; fill:none\" points=\"\n",
       "  544.116,566.071 530.784,572.526 529.451,587.982 530.784,585.691 534.784,582.109 538.783,580.173 542.783,579.882 545.449,581.882 546.782,586.174 546.782,589.465 \n",
       "  545.449,595.048 542.783,599.63 538.783,603.213 534.784,605.149 530.784,605.44 529.451,604.44 528.118,601.794 \n",
       "  \"/>\n",
       "<polyline clip-path=\"url(#clip1400)\" style=\"stroke:#000000; stroke-width:4; stroke-opacity:1; fill:none\" points=\"\n",
       "  492.122,322.849 494.788,319.912 498.788,313.038 498.788,347.598 \n",
       "  \"/>\n",
       "<polyline clip-path=\"url(#clip1400)\" style=\"stroke:#000000; stroke-width:4; stroke-opacity:1; fill:none\" points=\"\n",
       "  517.452,335.27 516.119,337.561 517.452,338.562 518.785,336.27 517.452,335.27 \n",
       "  \"/>\n",
       "<polyline clip-path=\"url(#clip1400)\" style=\"stroke:#000000; stroke-width:4; stroke-opacity:1; fill:none\" points=\"\n",
       "  536.117,294.965 532.117,298.547 529.451,304.775 528.118,313.649 528.118,318.586 529.451,326.169 532.117,329.815 536.117,329.525 538.783,328.234 542.783,324.652 \n",
       "  545.449,318.423 546.782,309.549 546.782,304.612 545.449,297.029 542.783,293.383 538.783,293.674 536.117,294.965 \n",
       "  \"/>\n",
       "<polyline clip-path=\"url(#clip1400)\" style=\"stroke:#000000; stroke-width:4; stroke-opacity:1; fill:none\" points=\"\n",
       "  560.648,1402.4 560.648,1402.4 550.105,1407.5 560.648,1402.4 560.648,1264.91 555.376,1267.46 560.648,1264.91 560.648,1127.42 550.105,1132.52 560.648,1127.42 \n",
       "  560.648,989.928 555.376,992.48 560.648,989.928 560.648,852.438 550.105,857.543 560.648,852.438 560.648,714.949 555.376,717.501 560.648,714.949 560.648,577.459 \n",
       "  550.105,582.564 560.648,577.459 560.648,439.97 555.376,442.522 560.648,439.97 560.648,302.48 550.105,307.585 560.648,302.48 \n",
       "  \"/>\n",
       "<polyline clip-path=\"url(#clip1400)\" style=\"stroke:#000000; stroke-width:4; stroke-opacity:1; fill:none\" points=\"\n",
       "  615.823,1444.9 645.191,1447.63 \n",
       "  \"/>\n",
       "<polyline clip-path=\"url(#clip1400)\" style=\"stroke:#000000; stroke-width:4; stroke-opacity:1; fill:none\" points=\"\n",
       "  666.401,1429.86 661.506,1431.05 658.243,1435.68 656.612,1443.76 656.612,1448.7 658.243,1457.08 661.506,1462.32 666.401,1464.42 669.664,1464.72 674.559,1463.54 \n",
       "  677.822,1458.9 679.453,1450.83 679.453,1445.89 677.822,1437.51 674.559,1432.27 669.664,1430.16 666.401,1429.86 \n",
       "  \"/>\n",
       "<polyline clip-path=\"url(#clip1400)\" style=\"stroke:#000000; stroke-width:4; stroke-opacity:1; fill:none\" points=\"\n",
       "  692.506,1463.56 690.874,1465.06 692.506,1466.85 694.137,1465.36 692.506,1463.56 \n",
       "  \"/>\n",
       "<polyline clip-path=\"url(#clip1400)\" style=\"stroke:#000000; stroke-width:4; stroke-opacity:1; fill:none\" points=\"\n",
       "  725.137,1435.33 708.821,1433.81 707.19,1448.47 708.821,1446.98 713.716,1445.79 718.611,1446.25 723.505,1448.35 726.768,1451.94 728.4,1457.03 728.4,1460.32 \n",
       "  726.768,1465.11 723.505,1468.1 718.611,1469.29 713.716,1468.83 708.821,1466.73 707.19,1464.93 705.558,1461.49 \n",
       "  \"/>\n",
       "<polyline clip-path=\"url(#clip1400)\" style=\"stroke:#000000; stroke-width:4; stroke-opacity:1; fill:none\" points=\"\n",
       "  995.76,1460.55 990.866,1461.74 987.603,1466.37 985.971,1474.45 985.971,1479.39 987.603,1487.77 990.866,1493.01 995.76,1495.11 999.023,1495.41 1003.92,1494.22 \n",
       "  1007.18,1489.59 1008.81,1481.51 1008.81,1476.58 1007.18,1468.2 1003.92,1462.96 999.023,1460.85 995.76,1460.55 \n",
       "  \"/>\n",
       "<polyline clip-path=\"url(#clip1400)\" style=\"stroke:#000000; stroke-width:4; stroke-opacity:1; fill:none\" points=\"\n",
       "  1297.38,1488.65 1292.49,1489.84 1289.23,1494.48 1287.59,1502.55 1287.59,1507.49 1289.23,1515.87 1292.49,1521.11 1297.38,1523.21 1300.65,1523.52 1305.54,1522.33 \n",
       "  1308.8,1517.7 1310.44,1509.62 1310.44,1504.68 1308.8,1496.3 1305.54,1491.06 1300.65,1488.96 1297.38,1488.65 \n",
       "  \"/>\n",
       "<polyline clip-path=\"url(#clip1400)\" style=\"stroke:#000000; stroke-width:4; stroke-opacity:1; fill:none\" points=\"\n",
       "  1323.49,1522.36 1321.86,1523.85 1323.49,1525.65 1325.12,1524.15 1323.49,1522.36 \n",
       "  \"/>\n",
       "<polyline clip-path=\"url(#clip1400)\" style=\"stroke:#000000; stroke-width:4; stroke-opacity:1; fill:none\" points=\"\n",
       "  1356.12,1494.13 1339.8,1492.61 1338.17,1507.27 1339.8,1505.77 1344.7,1504.58 1349.59,1505.04 1354.49,1507.14 1357.75,1510.74 1359.38,1515.83 1359.38,1519.12 \n",
       "  1357.75,1523.9 1354.49,1526.89 1349.59,1528.08 1344.7,1527.62 1339.8,1525.52 1338.17,1523.72 1336.54,1520.28 \n",
       "  \"/>\n",
       "<polyline clip-path=\"url(#clip1400)\" style=\"stroke:#000000; stroke-width:4; stroke-opacity:1; fill:none\" points=\"\n",
       "  560.648,1402.4 691.086,1414.55 680.543,1419.65 691.086,1414.55 854.135,1429.74 848.863,1432.3 854.135,1429.74 1017.18,1444.94 1006.64,1450.04 1017.18,1444.94 \n",
       "  1180.23,1460.13 1174.96,1462.68 1180.23,1460.13 1343.28,1475.32 1332.74,1480.43 1343.28,1475.32 1473.72,1487.47 \n",
       "  \"/>\n",
       "<polyline clip-path=\"url(#clip1400)\" style=\"stroke:#000000; stroke-width:4; stroke-opacity:1; fill:none\" points=\"\n",
       "  1549.77,1499.27 1573.76,1487.65 \n",
       "  \"/>\n",
       "<polyline clip-path=\"url(#clip1400)\" style=\"stroke:#000000; stroke-width:4; stroke-opacity:1; fill:none\" points=\"\n",
       "  1591.09,1459.51 1587.09,1463.09 1584.43,1469.32 1583.09,1478.2 1583.09,1483.13 1584.43,1490.72 1587.09,1494.36 1591.09,1494.07 1593.76,1492.78 1597.76,1489.2 \n",
       "  1600.43,1482.97 1601.76,1474.1 1601.76,1469.16 1600.43,1461.58 1597.76,1457.93 1593.76,1458.22 1591.09,1459.51 \n",
       "  \"/>\n",
       "<polyline clip-path=\"url(#clip1400)\" style=\"stroke:#000000; stroke-width:4; stroke-opacity:1; fill:none\" points=\"\n",
       "  1612.42,1480.45 1611.09,1482.74 1612.42,1483.74 1613.76,1481.45 1612.42,1480.45 \n",
       "  \"/>\n",
       "<polyline clip-path=\"url(#clip1400)\" style=\"stroke:#000000; stroke-width:4; stroke-opacity:1; fill:none\" points=\"\n",
       "  1639.09,1436.27 1625.76,1442.73 1624.42,1458.19 1625.76,1455.9 1629.76,1452.31 1633.76,1450.38 1637.76,1450.09 1640.42,1452.09 1641.75,1456.38 1641.75,1459.67 \n",
       "  1640.42,1465.25 1637.76,1469.83 1633.76,1473.42 1629.76,1475.35 1625.76,1475.64 1624.42,1474.64 1623.09,1472 \n",
       "  \"/>\n",
       "<polyline clip-path=\"url(#clip1400)\" style=\"stroke:#000000; stroke-width:4; stroke-opacity:1; fill:none\" points=\"\n",
       "  1782.03,1367.07 1778.03,1370.65 1775.37,1376.88 1774.03,1385.75 1774.03,1390.69 1775.37,1398.27 1778.03,1401.92 1782.03,1401.63 1784.7,1400.33 1788.7,1396.75 \n",
       "  1791.36,1390.52 1792.7,1381.65 1792.7,1376.71 1791.36,1369.13 1788.7,1365.48 1784.7,1365.77 1782.03,1367.07 \n",
       "  \"/>\n",
       "<polyline clip-path=\"url(#clip1400)\" style=\"stroke:#000000; stroke-width:4; stroke-opacity:1; fill:none\" points=\"\n",
       "  1950.31,1285.59 1946.31,1289.17 1943.64,1295.4 1942.31,1304.28 1942.31,1309.21 1943.64,1316.8 1946.31,1320.44 1950.31,1320.15 1952.97,1318.86 1956.97,1315.28 \n",
       "  1959.64,1309.05 1960.97,1300.18 1960.97,1295.24 1959.64,1287.66 1956.97,1284.01 1952.97,1284.3 1950.31,1285.59 \n",
       "  \"/>\n",
       "<polyline clip-path=\"url(#clip1400)\" style=\"stroke:#000000; stroke-width:4; stroke-opacity:1; fill:none\" points=\"\n",
       "  1971.64,1306.53 1970.3,1308.82 1971.64,1309.82 1972.97,1307.53 1971.64,1306.53 \n",
       "  \"/>\n",
       "<polyline clip-path=\"url(#clip1400)\" style=\"stroke:#000000; stroke-width:4; stroke-opacity:1; fill:none\" points=\"\n",
       "  1998.3,1262.35 1984.97,1268.81 1983.64,1284.27 1984.97,1281.98 1988.97,1278.39 1992.97,1276.46 1996.97,1276.17 1999.63,1278.17 2000.97,1282.46 2000.97,1285.75 \n",
       "  1999.63,1291.33 1996.97,1295.91 1992.97,1299.5 1988.97,1301.43 1984.97,1301.72 1983.64,1300.72 1982.3,1298.08 \n",
       "  \"/>\n",
       "<polyline clip-path=\"url(#clip1400)\" style=\"stroke:#000000; stroke-width:4; stroke-opacity:1; fill:none\" points=\"\n",
       "  1473.72,1487.47 1549.03,1451.01 1567.29,1452.71 1549.03,1451.01 1643.16,1405.43 1652.29,1406.29 1643.16,1405.43 1737.3,1359.86 1755.56,1361.56 1737.3,1359.86 \n",
       "  1831.43,1314.28 1840.56,1315.13 1831.43,1314.28 1925.57,1268.7 1943.83,1270.4 1925.57,1268.7 2000.88,1232.24 \n",
       "  \"/>\n",
       "<polygon clip-path=\"url(#clip1400)\" points=\"\n",
       "1638.05,251.724 1928.88,251.724 1928.88,130.764 1638.05,130.764 \n",
       "  \" fill=\"#ffffff\" fill-rule=\"evenodd\" fill-opacity=\"1\"/>\n",
       "<polyline clip-path=\"url(#clip1400)\" style=\"stroke:#000000; stroke-width:4; stroke-opacity:1; fill:none\" points=\"\n",
       "  1638.05,251.724 1928.88,251.724 1928.88,130.764 1638.05,130.764 1638.05,251.724 \n",
       "  \"/>\n",
       "<g clip-path=\"url(#clip1400)\">\n",
       "<text style=\"fill:#000000; fill-opacity:1; font-family:Arial,Helvetica Neue,Helvetica,sans-serif; font-size:48px; text-anchor:start;\" transform=\"rotate(0, 1830.05, 208.744)\" x=\"1830.05\" y=\"208.744\">y1</text>\n",
       "</g>\n",
       "</svg>\n"
      ]
     },
     "execution_count": 13,
     "metadata": {},
     "output_type": "execute_result"
    }
   ],
   "source": [
    "X = X_all[end]\n",
    "# Xs = x_shooting_all[2]\n",
    " fig = plot(X[1,:], X[2,:], X[3,:]; c=:blue, lims = (-0.7,0.7))\n",
    "# plot!(fig, Xs[1,:], Xs[2,:], Xs[3,:]; c=:red)\n",
    "\n",
    "xlims = (0,10)\n",
    "zlims = (0,10)\n",
    "fig"
   ]
  },
  {
   "cell_type": "code",
   "execution_count": null,
   "metadata": {},
   "outputs": [],
   "source": []
  },
  {
   "cell_type": "code",
   "execution_count": 14,
   "metadata": {
    "scrolled": false
   },
   "outputs": [
    {
     "ename": "BoundsError",
     "evalue": "BoundsError: attempt to access 1-element Array{Any,1} at index [2]",
     "output_type": "error",
     "traceback": [
      "BoundsError: attempt to access 1-element Array{Any,1} at index [2]",
      "",
      "Stacktrace:",
      " [1] getindex(::Array{Any,1}, ::Int64) at ./array.jl:729",
      " [2] top-level scope at In[14]:2"
     ]
    }
   ],
   "source": [
    "idx = [1,2]\n",
    "x = X_all[2][1,:]\n",
    "y = X_all[2][2,:]\n",
    "z = X_all[2][3,:]\n",
    "# plot(x,  y)\n",
    "plot(1:N, y)"
   ]
  },
  {
   "cell_type": "code",
   "execution_count": null,
   "metadata": {},
   "outputs": [],
   "source": []
  }
 ],
 "metadata": {
  "kernelspec": {
   "display_name": "Julia 1.1.0",
   "language": "julia",
   "name": "julia-1.1"
  },
  "language_info": {
   "file_extension": ".jl",
   "mimetype": "application/julia",
   "name": "julia",
   "version": "1.1.0"
  }
 },
 "nbformat": 4,
 "nbformat_minor": 2
}
